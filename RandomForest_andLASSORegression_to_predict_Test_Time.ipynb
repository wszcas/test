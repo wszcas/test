{
 "cells": [
  {
   "cell_type": "code",
   "execution_count": 2,
   "metadata": {
    "collapsed": true
   },
   "outputs": [],
   "source": [
    "%matplotlib inline\n",
    "import numpy as np\n",
    "import pandas as pd\n",
    "import matplotlib.pyplot as plt\n",
    "plt.style.use('ggplot')\n",
    "import seaborn as sns\n",
    "from sklearn import datasets\n",
    "from IPython.core.interactiveshell import InteractiveShell\n",
    "from sklearn.model_selection import train_test_split\n",
    "InteractiveShell.ast_node_interactivity = \"all\"\n"
   ]
  },
  {
   "cell_type": "code",
   "execution_count": 3,
   "metadata": {},
   "outputs": [
    {
     "name": "stderr",
     "output_type": "stream",
     "text": [
      "/opt/conda/lib/python3.5/site-packages/sklearn/cross_validation.py:41: DeprecationWarning: This module was deprecated in version 0.18 in favor of the model_selection module into which all the refactored classes and functions are moved. Also note that the interface of the new CV iterators are different from that of this module. This module will be removed in 0.20.\n",
      "  \"This module will be removed in 0.20.\", DeprecationWarning)\n"
     ]
    }
   ],
   "source": [
    "#import xgboost as xgb"
   ]
  },
  {
   "cell_type": "code",
   "execution_count": 3,
   "metadata": {},
   "outputs": [
    {
     "name": "stderr",
     "output_type": "stream",
     "text": [
      "/usr/local/lib/python3.5/dist-packages/IPython/core/interactiveshell.py:2683: DtypeWarning: Columns (3) have mixed types. Specify dtype option on import or set low_memory=False.\n",
      "  interactivity=interactivity, compiler=compiler, result=result)\n"
     ]
    }
   ],
   "source": [
    "df=pd.read_csv(\"test_truncated.txt\",delimiter=\"\\t\")\n"
   ]
  },
  {
   "cell_type": "code",
   "execution_count": 4,
   "metadata": {},
   "outputs": [
    {
     "data": {
      "text/html": [
       "<div>\n",
       "<style scoped>\n",
       "    .dataframe tbody tr th:only-of-type {\n",
       "        vertical-align: middle;\n",
       "    }\n",
       "\n",
       "    .dataframe tbody tr th {\n",
       "        vertical-align: top;\n",
       "    }\n",
       "\n",
       "    .dataframe thead th {\n",
       "        text-align: right;\n",
       "    }\n",
       "</style>\n",
       "<table border=\"1\" class=\"dataframe\">\n",
       "  <thead>\n",
       "    <tr style=\"text-align: right;\">\n",
       "      <th></th>\n",
       "      <th>dicomstudyinstanceuid</th>\n",
       "      <th>dicomstationname</th>\n",
       "      <th>dicombodypartexamined</th>\n",
       "      <th>examsubspeciality</th>\n",
       "      <th>dicommodality</th>\n",
       "      <th>dicommanufacturer</th>\n",
       "      <th>isitesendingaetitle</th>\n",
       "      <th>studyperformedduration</th>\n",
       "      <th>procedurecodevalue</th>\n",
       "      <th>procedurecodemeaning</th>\n",
       "    </tr>\n",
       "  </thead>\n",
       "  <tbody>\n",
       "    <tr>\n",
       "      <th>0</th>\n",
       "      <td>1.2.276.0.26.1.1.1.2.2016.331.83557.4140867</td>\n",
       "      <td>KP WCR PDS2</td>\n",
       "      <td>NaN</td>\n",
       "      <td>NaN</td>\n",
       "      <td>US</td>\n",
       "      <td>GE Healthcare Austria GmbH &amp; Co OG</td>\n",
       "      <td>CNWCRGEVP601</td>\n",
       "      <td>1477</td>\n",
       "      <td>76801</td>\n",
       "      <td>ECHO OB, 1ST TRIM, SINGLETON</td>\n",
       "    </tr>\n",
       "    <tr>\n",
       "      <th>1</th>\n",
       "      <td>1.2.276.0.26.1.1.1.2.2016.360.461.6577827</td>\n",
       "      <td>US3</td>\n",
       "      <td>NaN</td>\n",
       "      <td>NaN</td>\n",
       "      <td>US</td>\n",
       "      <td>GE Healthcare Austria GmbH &amp; Co OG</td>\n",
       "      <td>CNWCRGEVP601</td>\n",
       "      <td>626</td>\n",
       "      <td>76801</td>\n",
       "      <td>ECHO OB, 1ST TRIM, SINGLETON</td>\n",
       "    </tr>\n",
       "    <tr>\n",
       "      <th>2</th>\n",
       "      <td>1.2.276.0.26.1.1.1.2.2016.360.592.7570814</td>\n",
       "      <td>KP WCR PDS2</td>\n",
       "      <td>NaN</td>\n",
       "      <td>NaN</td>\n",
       "      <td>US</td>\n",
       "      <td>GE Healthcare Austria GmbH &amp; Co OG</td>\n",
       "      <td>CNWCRGEVP601</td>\n",
       "      <td>1175</td>\n",
       "      <td>76801</td>\n",
       "      <td>ECHO OB, 1ST TRIM, SINGLETON</td>\n",
       "    </tr>\n",
       "    <tr>\n",
       "      <th>3</th>\n",
       "      <td>1.2.276.0.26.1.1.1.2.2016.377.72991.2322371</td>\n",
       "      <td>US3</td>\n",
       "      <td>NaN</td>\n",
       "      <td>NaN</td>\n",
       "      <td>US</td>\n",
       "      <td>GE Healthcare Austria GmbH &amp; Co OG</td>\n",
       "      <td>CNWCRGEVP601</td>\n",
       "      <td>702</td>\n",
       "      <td>76805</td>\n",
       "      <td>ECHO OB, B-SCAN/RL TM COMPLETE</td>\n",
       "    </tr>\n",
       "    <tr>\n",
       "      <th>4</th>\n",
       "      <td>1.2.392.200036.9116.6.18.15542006.1041.2016092...</td>\n",
       "      <td>StationName</td>\n",
       "      <td>NaN</td>\n",
       "      <td>NaN</td>\n",
       "      <td>US</td>\n",
       "      <td>TOSHIBA_MEC_US</td>\n",
       "      <td>CNDRVA5002006</td>\n",
       "      <td>176</td>\n",
       "      <td>76805</td>\n",
       "      <td>ECHO OB, B-SCAN/RL TM COMPLETE</td>\n",
       "    </tr>\n",
       "  </tbody>\n",
       "</table>\n",
       "</div>"
      ],
      "text/plain": [
       "                               dicomstudyinstanceuid dicomstationname  \\\n",
       "0        1.2.276.0.26.1.1.1.2.2016.331.83557.4140867      KP WCR PDS2   \n",
       "1          1.2.276.0.26.1.1.1.2.2016.360.461.6577827              US3   \n",
       "2          1.2.276.0.26.1.1.1.2.2016.360.592.7570814      KP WCR PDS2   \n",
       "3        1.2.276.0.26.1.1.1.2.2016.377.72991.2322371              US3   \n",
       "4  1.2.392.200036.9116.6.18.15542006.1041.2016092...      StationName   \n",
       "\n",
       "  dicombodypartexamined examsubspeciality dicommodality  \\\n",
       "0                   NaN               NaN            US   \n",
       "1                   NaN               NaN            US   \n",
       "2                   NaN               NaN            US   \n",
       "3                   NaN               NaN            US   \n",
       "4                   NaN               NaN            US   \n",
       "\n",
       "                    dicommanufacturer isitesendingaetitle  \\\n",
       "0  GE Healthcare Austria GmbH & Co OG        CNWCRGEVP601   \n",
       "1  GE Healthcare Austria GmbH & Co OG        CNWCRGEVP601   \n",
       "2  GE Healthcare Austria GmbH & Co OG        CNWCRGEVP601   \n",
       "3  GE Healthcare Austria GmbH & Co OG        CNWCRGEVP601   \n",
       "4                      TOSHIBA_MEC_US       CNDRVA5002006   \n",
       "\n",
       "   studyperformedduration  procedurecodevalue            procedurecodemeaning  \n",
       "0                    1477               76801    ECHO OB, 1ST TRIM, SINGLETON  \n",
       "1                     626               76801    ECHO OB, 1ST TRIM, SINGLETON  \n",
       "2                    1175               76801    ECHO OB, 1ST TRIM, SINGLETON  \n",
       "3                     702               76805  ECHO OB, B-SCAN/RL TM COMPLETE  \n",
       "4                     176               76805  ECHO OB, B-SCAN/RL TM COMPLETE  "
      ]
     },
     "execution_count": 4,
     "metadata": {},
     "output_type": "execute_result"
    },
    {
     "data": {
      "text/plain": [
       "(99999, 10)"
      ]
     },
     "execution_count": 4,
     "metadata": {},
     "output_type": "execute_result"
    }
   ],
   "source": [
    "df.head(5)\n",
    "df.shape"
   ]
  },
  {
   "cell_type": "code",
   "execution_count": 5,
   "metadata": {},
   "outputs": [
    {
     "name": "stdout",
     "output_type": "stream",
     "text": [
      "dicomstudyinstanceuid         0\n",
      "dicomstationname           1413\n",
      "dicombodypartexamined     29783\n",
      "examsubspeciality         99872\n",
      "dicommodality                 0\n",
      "dicommanufacturer             0\n",
      "isitesendingaetitle           0\n",
      "studyperformedduration        0\n",
      "procedurecodevalue            0\n",
      "procedurecodemeaning          0\n",
      "dtype: int64\n"
     ]
    }
   ],
   "source": [
    "## start data cleaning for missing values , count how many missing values we have for each variable\n",
    "missing_count = df.apply(lambda x: sum(x.isnull()),axis=0)\n",
    "print(missing_count)"
   ]
  },
  {
   "cell_type": "code",
   "execution_count": 6,
   "metadata": {},
   "outputs": [
    {
     "name": "stdout",
     "output_type": "stream",
     "text": [
      "dicomstudyinstanceuid\n",
      "object\n",
      "dicomstationname\n",
      "object\n",
      "dicombodypartexamined\n",
      "object\n",
      "examsubspeciality\n",
      "object\n",
      "dicommodality\n",
      "object\n",
      "dicommanufacturer\n",
      "object\n",
      "isitesendingaetitle\n",
      "object\n",
      "studyperformedduration\n",
      "int64\n",
      "procedurecodevalue\n",
      "int64\n",
      "procedurecodemeaning\n",
      "object\n"
     ]
    }
   ],
   "source": [
    "## check data type,## check data type for each column, 'Object' means String type \n",
    "for y in df.columns:\n",
    "    print(y)\n",
    "    print(df[y].dtype)"
   ]
  },
  {
   "cell_type": "code",
   "execution_count": 7,
   "metadata": {
    "collapsed": true
   },
   "outputs": [],
   "source": [
    "## drop variables with too much missing value, and fill missing value as \"Unknown\"for some other variables\n",
    "df.drop(['dicomstudyinstanceuid','examsubspeciality','procedurecodemeaning'],axis=1, inplace=True)\n",
    "df['dicomstationname'].fillna('Unknown',inplace=True)\n",
    "df['dicombodypartexamined'].fillna('Unknown',inplace=True)\n",
    "df['dicommanufacturer'].fillna('Philips Medical Systems',inplace=True)\n",
    "\n",
    "## transform numberic to string type\n",
    "df['procedurecodevalue']=df['procedurecodevalue'].astype(object)\n"
   ]
  },
  {
   "cell_type": "code",
   "execution_count": 8,
   "metadata": {},
   "outputs": [
    {
     "name": "stdout",
     "output_type": "stream",
     "text": [
      "String\n",
      "dicomstationname\n",
      "String\n",
      "dicombodypartexamined\n",
      "String\n",
      "dicommodality\n",
      "String\n",
      "dicommanufacturer\n",
      "String\n",
      "isitesendingaetitle\n",
      "String\n",
      "procedurecodevalue\n",
      "['dicomstationname', 'dicombodypartexamined', 'dicommodality', 'dicommanufacturer', 'isitesendingaetitle', 'procedurecodevalue']\n"
     ]
    }
   ],
   "source": [
    "## collect String variable names\n",
    "var_norminal=[]\n",
    "for col in df.columns.values:\n",
    "    #print(col)\n",
    "    if df[col].dtypes == 'object':\n",
    "        print(\"String\")\n",
    "        print(col)\n",
    "        var_norminal.append(col)\n",
    "\n",
    "print(var_norminal)"
   ]
  },
  {
   "cell_type": "code",
   "execution_count": 9,
   "metadata": {},
   "outputs": [
    {
     "data": {
      "text/html": [
       "<div>\n",
       "<style scoped>\n",
       "    .dataframe tbody tr th:only-of-type {\n",
       "        vertical-align: middle;\n",
       "    }\n",
       "\n",
       "    .dataframe tbody tr th {\n",
       "        vertical-align: top;\n",
       "    }\n",
       "\n",
       "    .dataframe thead th {\n",
       "        text-align: right;\n",
       "    }\n",
       "</style>\n",
       "<table border=\"1\" class=\"dataframe\">\n",
       "  <thead>\n",
       "    <tr style=\"text-align: right;\">\n",
       "      <th></th>\n",
       "      <th>dicomstationname_7596-NE2D-184</th>\n",
       "      <th>dicomstationname_7596-NE2D-264</th>\n",
       "      <th>dicomstationname_925813PORT4</th>\n",
       "      <th>dicomstationname_AMCMAM2</th>\n",
       "      <th>dicomstationname_AMCMAM3</th>\n",
       "      <th>dicomstationname_ANT-CR-01</th>\n",
       "      <th>dicomstationname_ANTMAM1</th>\n",
       "      <th>dicomstationname_AX1028116330078</th>\n",
       "      <th>dicomstationname_CNBSRHOLOGIC</th>\n",
       "      <th>dicomstationname_CNDRV_CT0886199</th>\n",
       "      <th>...</th>\n",
       "      <th>procedurecodevalue_76801</th>\n",
       "      <th>procedurecodevalue_76805</th>\n",
       "      <th>procedurecodevalue_76816</th>\n",
       "      <th>procedurecodevalue_76856</th>\n",
       "      <th>procedurecodevalue_77055</th>\n",
       "      <th>procedurecodevalue_77056</th>\n",
       "      <th>procedurecodevalue_77057</th>\n",
       "      <th>procedurecodevalue_78815</th>\n",
       "      <th>procedurecodevalue_93880</th>\n",
       "      <th>procedurecodevalue_93971</th>\n",
       "    </tr>\n",
       "  </thead>\n",
       "  <tbody>\n",
       "    <tr>\n",
       "      <th>0</th>\n",
       "      <td>0</td>\n",
       "      <td>0</td>\n",
       "      <td>0</td>\n",
       "      <td>0</td>\n",
       "      <td>0</td>\n",
       "      <td>0</td>\n",
       "      <td>0</td>\n",
       "      <td>0</td>\n",
       "      <td>0</td>\n",
       "      <td>0</td>\n",
       "      <td>...</td>\n",
       "      <td>1</td>\n",
       "      <td>0</td>\n",
       "      <td>0</td>\n",
       "      <td>0</td>\n",
       "      <td>0</td>\n",
       "      <td>0</td>\n",
       "      <td>0</td>\n",
       "      <td>0</td>\n",
       "      <td>0</td>\n",
       "      <td>0</td>\n",
       "    </tr>\n",
       "    <tr>\n",
       "      <th>1</th>\n",
       "      <td>0</td>\n",
       "      <td>0</td>\n",
       "      <td>0</td>\n",
       "      <td>0</td>\n",
       "      <td>0</td>\n",
       "      <td>0</td>\n",
       "      <td>0</td>\n",
       "      <td>0</td>\n",
       "      <td>0</td>\n",
       "      <td>0</td>\n",
       "      <td>...</td>\n",
       "      <td>1</td>\n",
       "      <td>0</td>\n",
       "      <td>0</td>\n",
       "      <td>0</td>\n",
       "      <td>0</td>\n",
       "      <td>0</td>\n",
       "      <td>0</td>\n",
       "      <td>0</td>\n",
       "      <td>0</td>\n",
       "      <td>0</td>\n",
       "    </tr>\n",
       "    <tr>\n",
       "      <th>2</th>\n",
       "      <td>0</td>\n",
       "      <td>0</td>\n",
       "      <td>0</td>\n",
       "      <td>0</td>\n",
       "      <td>0</td>\n",
       "      <td>0</td>\n",
       "      <td>0</td>\n",
       "      <td>0</td>\n",
       "      <td>0</td>\n",
       "      <td>0</td>\n",
       "      <td>...</td>\n",
       "      <td>1</td>\n",
       "      <td>0</td>\n",
       "      <td>0</td>\n",
       "      <td>0</td>\n",
       "      <td>0</td>\n",
       "      <td>0</td>\n",
       "      <td>0</td>\n",
       "      <td>0</td>\n",
       "      <td>0</td>\n",
       "      <td>0</td>\n",
       "    </tr>\n",
       "    <tr>\n",
       "      <th>3</th>\n",
       "      <td>0</td>\n",
       "      <td>0</td>\n",
       "      <td>0</td>\n",
       "      <td>0</td>\n",
       "      <td>0</td>\n",
       "      <td>0</td>\n",
       "      <td>0</td>\n",
       "      <td>0</td>\n",
       "      <td>0</td>\n",
       "      <td>0</td>\n",
       "      <td>...</td>\n",
       "      <td>0</td>\n",
       "      <td>1</td>\n",
       "      <td>0</td>\n",
       "      <td>0</td>\n",
       "      <td>0</td>\n",
       "      <td>0</td>\n",
       "      <td>0</td>\n",
       "      <td>0</td>\n",
       "      <td>0</td>\n",
       "      <td>0</td>\n",
       "    </tr>\n",
       "    <tr>\n",
       "      <th>4</th>\n",
       "      <td>0</td>\n",
       "      <td>0</td>\n",
       "      <td>0</td>\n",
       "      <td>0</td>\n",
       "      <td>0</td>\n",
       "      <td>0</td>\n",
       "      <td>0</td>\n",
       "      <td>0</td>\n",
       "      <td>0</td>\n",
       "      <td>0</td>\n",
       "      <td>...</td>\n",
       "      <td>0</td>\n",
       "      <td>1</td>\n",
       "      <td>0</td>\n",
       "      <td>0</td>\n",
       "      <td>0</td>\n",
       "      <td>0</td>\n",
       "      <td>0</td>\n",
       "      <td>0</td>\n",
       "      <td>0</td>\n",
       "      <td>0</td>\n",
       "    </tr>\n",
       "  </tbody>\n",
       "</table>\n",
       "<p>5 rows × 288 columns</p>\n",
       "</div>"
      ],
      "text/plain": [
       "   dicomstationname_7596-NE2D-184  dicomstationname_7596-NE2D-264  \\\n",
       "0                               0                               0   \n",
       "1                               0                               0   \n",
       "2                               0                               0   \n",
       "3                               0                               0   \n",
       "4                               0                               0   \n",
       "\n",
       "   dicomstationname_925813PORT4  dicomstationname_AMCMAM2  \\\n",
       "0                             0                         0   \n",
       "1                             0                         0   \n",
       "2                             0                         0   \n",
       "3                             0                         0   \n",
       "4                             0                         0   \n",
       "\n",
       "   dicomstationname_AMCMAM3  dicomstationname_ANT-CR-01  \\\n",
       "0                         0                           0   \n",
       "1                         0                           0   \n",
       "2                         0                           0   \n",
       "3                         0                           0   \n",
       "4                         0                           0   \n",
       "\n",
       "   dicomstationname_ANTMAM1  dicomstationname_AX1028116330078  \\\n",
       "0                         0                                 0   \n",
       "1                         0                                 0   \n",
       "2                         0                                 0   \n",
       "3                         0                                 0   \n",
       "4                         0                                 0   \n",
       "\n",
       "   dicomstationname_CNBSRHOLOGIC  dicomstationname_CNDRV_CT0886199  \\\n",
       "0                              0                                 0   \n",
       "1                              0                                 0   \n",
       "2                              0                                 0   \n",
       "3                              0                                 0   \n",
       "4                              0                                 0   \n",
       "\n",
       "             ...             procedurecodevalue_76801  \\\n",
       "0            ...                                    1   \n",
       "1            ...                                    1   \n",
       "2            ...                                    1   \n",
       "3            ...                                    0   \n",
       "4            ...                                    0   \n",
       "\n",
       "   procedurecodevalue_76805  procedurecodevalue_76816  \\\n",
       "0                         0                         0   \n",
       "1                         0                         0   \n",
       "2                         0                         0   \n",
       "3                         1                         0   \n",
       "4                         1                         0   \n",
       "\n",
       "   procedurecodevalue_76856  procedurecodevalue_77055  \\\n",
       "0                         0                         0   \n",
       "1                         0                         0   \n",
       "2                         0                         0   \n",
       "3                         0                         0   \n",
       "4                         0                         0   \n",
       "\n",
       "   procedurecodevalue_77056  procedurecodevalue_77057  \\\n",
       "0                         0                         0   \n",
       "1                         0                         0   \n",
       "2                         0                         0   \n",
       "3                         0                         0   \n",
       "4                         0                         0   \n",
       "\n",
       "   procedurecodevalue_78815  procedurecodevalue_93880  \\\n",
       "0                         0                         0   \n",
       "1                         0                         0   \n",
       "2                         0                         0   \n",
       "3                         0                         0   \n",
       "4                         0                         0   \n",
       "\n",
       "   procedurecodevalue_93971  \n",
       "0                         0  \n",
       "1                         0  \n",
       "2                         0  \n",
       "3                         0  \n",
       "4                         0  \n",
       "\n",
       "[5 rows x 288 columns]"
      ]
     },
     "execution_count": 9,
     "metadata": {},
     "output_type": "execute_result"
    },
    {
     "data": {
      "text/plain": [
       "dicomstationname_7596-NE2D-184       uint8\n",
       "dicomstationname_7596-NE2D-264       uint8\n",
       "dicomstationname_925813PORT4         uint8\n",
       "dicomstationname_AMCMAM2             uint8\n",
       "dicomstationname_AMCMAM3             uint8\n",
       "dicomstationname_ANT-CR-01           uint8\n",
       "dicomstationname_ANTMAM1             uint8\n",
       "dicomstationname_AX1028116330078     uint8\n",
       "dicomstationname_CNBSRHOLOGIC        uint8\n",
       "dicomstationname_CNDRV_CT0886199     uint8\n",
       "dicomstationname_CNDRV_CT1005404     uint8\n",
       "dicomstationname_CNMTZ_CR1039553     uint8\n",
       "dicomstationname_CNPLS_CT0827402     uint8\n",
       "dicomstationname_CNWCR-CR870900      uint8\n",
       "dicomstationname_CNWCR_CR1073363     uint8\n",
       "dicomstationname_CNWCR_CR839851      uint8\n",
       "dicomstationname_CNWCR_CT0938620     uint8\n",
       "dicomstationname_CNWCR_CT1064607     uint8\n",
       "dicomstationname_DIDI RM2 ANT        uint8\n",
       "dicomstationname_DIDI Rm4            uint8\n",
       "dicomstationname_DIDI_RM 1_ANT       uint8\n",
       "dicomstationname_DRV-CR850ED         uint8\n",
       "dicomstationname_DRV-CR975-01        uint8\n",
       "dicomstationname_DRV-CR975-02        uint8\n",
       "dicomstationname_DRVIU22RM1          uint8\n",
       "dicomstationname_DiDiEleva01         uint8\n",
       "dicomstationname_DiDiEleva_Rm5       uint8\n",
       "dicomstationname_Digital Diagnost    uint8\n",
       "dicomstationname_DirectRF RM 5       uint8\n",
       "dicomstationname_GEHCOW              uint8\n",
       "                                     ...  \n",
       "procedurecodevalue_73500             uint8\n",
       "procedurecodevalue_73510             uint8\n",
       "procedurecodevalue_73520             uint8\n",
       "procedurecodevalue_73550             uint8\n",
       "procedurecodevalue_73560             uint8\n",
       "procedurecodevalue_73562             uint8\n",
       "procedurecodevalue_73564             uint8\n",
       "procedurecodevalue_73590             uint8\n",
       "procedurecodevalue_73610             uint8\n",
       "procedurecodevalue_73630             uint8\n",
       "procedurecodevalue_73660             uint8\n",
       "procedurecodevalue_73721             uint8\n",
       "procedurecodevalue_74000             uint8\n",
       "procedurecodevalue_74022             uint8\n",
       "procedurecodevalue_74176             uint8\n",
       "procedurecodevalue_74177             uint8\n",
       "procedurecodevalue_76536             uint8\n",
       "procedurecodevalue_76645             uint8\n",
       "procedurecodevalue_76705             uint8\n",
       "procedurecodevalue_76775             uint8\n",
       "procedurecodevalue_76801             uint8\n",
       "procedurecodevalue_76805             uint8\n",
       "procedurecodevalue_76816             uint8\n",
       "procedurecodevalue_76856             uint8\n",
       "procedurecodevalue_77055             uint8\n",
       "procedurecodevalue_77056             uint8\n",
       "procedurecodevalue_77057             uint8\n",
       "procedurecodevalue_78815             uint8\n",
       "procedurecodevalue_93880             uint8\n",
       "procedurecodevalue_93971             uint8\n",
       "Length: 288, dtype: object"
      ]
     },
     "execution_count": 9,
     "metadata": {},
     "output_type": "execute_result"
    }
   ],
   "source": [
    "## transfrom catrgorical variables into dummy variables \n",
    "df_norminal = pd.get_dummies( df[var_norminal] )\n",
    "df_norminal.head()\n",
    "df_norminal.dtypes"
   ]
  },
  {
   "cell_type": "code",
   "execution_count": 10,
   "metadata": {},
   "outputs": [
    {
     "name": "stderr",
     "output_type": "stream",
     "text": [
      "/usr/local/lib/python3.5/dist-packages/sklearn/model_selection/_split.py:2026: FutureWarning: From version 0.21, test_size will always complement train_size unless both are specified.\n",
      "  FutureWarning)\n"
     ]
    }
   ],
   "source": [
    "## split the data into train and test, df_norminal is dataframe for X, df['studyperformedduration'] is our traget variable\n",
    "X_train, X_test, y_train, y_test = train_test_split(df_norminal, df['studyperformedduration'], train_size=0.8, random_state=42)"
   ]
  },
  {
   "cell_type": "code",
   "execution_count": 11,
   "metadata": {},
   "outputs": [
    {
     "data": {
      "text/plain": [
       "(79999, 288)"
      ]
     },
     "execution_count": 11,
     "metadata": {},
     "output_type": "execute_result"
    },
    {
     "data": {
      "text/plain": [
       "(20000, 288)"
      ]
     },
     "execution_count": 11,
     "metadata": {},
     "output_type": "execute_result"
    },
    {
     "data": {
      "text/plain": [
       "(79999,)"
      ]
     },
     "execution_count": 11,
     "metadata": {},
     "output_type": "execute_result"
    },
    {
     "data": {
      "text/plain": [
       "(20000,)"
      ]
     },
     "execution_count": 11,
     "metadata": {},
     "output_type": "execute_result"
    }
   ],
   "source": [
    "X_train.shape\n",
    "X_test.shape\n",
    "y_train.shape\n",
    "y_test.shape"
   ]
  },
  {
   "cell_type": "code",
   "execution_count": 11,
   "metadata": {},
   "outputs": [
    {
     "data": {
      "text/html": [
       "<div>\n",
       "<style scoped>\n",
       "    .dataframe tbody tr th:only-of-type {\n",
       "        vertical-align: middle;\n",
       "    }\n",
       "\n",
       "    .dataframe tbody tr th {\n",
       "        vertical-align: top;\n",
       "    }\n",
       "\n",
       "    .dataframe thead th {\n",
       "        text-align: right;\n",
       "    }\n",
       "</style>\n",
       "<table border=\"1\" class=\"dataframe\">\n",
       "  <thead>\n",
       "    <tr style=\"text-align: right;\">\n",
       "      <th></th>\n",
       "      <th>dicomstationname_7596-NE2D-184</th>\n",
       "      <th>dicomstationname_7596-NE2D-264</th>\n",
       "      <th>dicomstationname_925813PORT4</th>\n",
       "      <th>dicomstationname_AMCMAM2</th>\n",
       "      <th>dicomstationname_AMCMAM3</th>\n",
       "      <th>dicomstationname_ANT-CR-01</th>\n",
       "      <th>dicomstationname_ANTMAM1</th>\n",
       "      <th>dicomstationname_AX1028116330078</th>\n",
       "      <th>dicomstationname_CNBSRHOLOGIC</th>\n",
       "      <th>dicomstationname_CNDRV_CT0886199</th>\n",
       "      <th>...</th>\n",
       "      <th>procedurecodevalue_76801</th>\n",
       "      <th>procedurecodevalue_76805</th>\n",
       "      <th>procedurecodevalue_76816</th>\n",
       "      <th>procedurecodevalue_76856</th>\n",
       "      <th>procedurecodevalue_77055</th>\n",
       "      <th>procedurecodevalue_77056</th>\n",
       "      <th>procedurecodevalue_77057</th>\n",
       "      <th>procedurecodevalue_78815</th>\n",
       "      <th>procedurecodevalue_93880</th>\n",
       "      <th>procedurecodevalue_93971</th>\n",
       "    </tr>\n",
       "  </thead>\n",
       "  <tbody>\n",
       "    <tr>\n",
       "      <th>64470</th>\n",
       "      <td>0</td>\n",
       "      <td>0</td>\n",
       "      <td>0</td>\n",
       "      <td>0</td>\n",
       "      <td>0</td>\n",
       "      <td>0</td>\n",
       "      <td>0</td>\n",
       "      <td>0</td>\n",
       "      <td>0</td>\n",
       "      <td>0</td>\n",
       "      <td>...</td>\n",
       "      <td>0</td>\n",
       "      <td>0</td>\n",
       "      <td>0</td>\n",
       "      <td>0</td>\n",
       "      <td>0</td>\n",
       "      <td>0</td>\n",
       "      <td>0</td>\n",
       "      <td>0</td>\n",
       "      <td>0</td>\n",
       "      <td>0</td>\n",
       "    </tr>\n",
       "    <tr>\n",
       "      <th>45557</th>\n",
       "      <td>0</td>\n",
       "      <td>0</td>\n",
       "      <td>0</td>\n",
       "      <td>0</td>\n",
       "      <td>0</td>\n",
       "      <td>0</td>\n",
       "      <td>0</td>\n",
       "      <td>0</td>\n",
       "      <td>0</td>\n",
       "      <td>0</td>\n",
       "      <td>...</td>\n",
       "      <td>0</td>\n",
       "      <td>0</td>\n",
       "      <td>0</td>\n",
       "      <td>0</td>\n",
       "      <td>0</td>\n",
       "      <td>0</td>\n",
       "      <td>0</td>\n",
       "      <td>0</td>\n",
       "      <td>0</td>\n",
       "      <td>0</td>\n",
       "    </tr>\n",
       "    <tr>\n",
       "      <th>27614</th>\n",
       "      <td>0</td>\n",
       "      <td>1</td>\n",
       "      <td>0</td>\n",
       "      <td>0</td>\n",
       "      <td>0</td>\n",
       "      <td>0</td>\n",
       "      <td>0</td>\n",
       "      <td>0</td>\n",
       "      <td>0</td>\n",
       "      <td>0</td>\n",
       "      <td>...</td>\n",
       "      <td>0</td>\n",
       "      <td>0</td>\n",
       "      <td>0</td>\n",
       "      <td>0</td>\n",
       "      <td>0</td>\n",
       "      <td>0</td>\n",
       "      <td>0</td>\n",
       "      <td>0</td>\n",
       "      <td>0</td>\n",
       "      <td>0</td>\n",
       "    </tr>\n",
       "    <tr>\n",
       "      <th>13568</th>\n",
       "      <td>0</td>\n",
       "      <td>0</td>\n",
       "      <td>0</td>\n",
       "      <td>0</td>\n",
       "      <td>0</td>\n",
       "      <td>0</td>\n",
       "      <td>0</td>\n",
       "      <td>0</td>\n",
       "      <td>0</td>\n",
       "      <td>0</td>\n",
       "      <td>...</td>\n",
       "      <td>0</td>\n",
       "      <td>0</td>\n",
       "      <td>0</td>\n",
       "      <td>0</td>\n",
       "      <td>0</td>\n",
       "      <td>0</td>\n",
       "      <td>0</td>\n",
       "      <td>0</td>\n",
       "      <td>0</td>\n",
       "      <td>0</td>\n",
       "    </tr>\n",
       "    <tr>\n",
       "      <th>92726</th>\n",
       "      <td>0</td>\n",
       "      <td>0</td>\n",
       "      <td>0</td>\n",
       "      <td>0</td>\n",
       "      <td>0</td>\n",
       "      <td>0</td>\n",
       "      <td>0</td>\n",
       "      <td>0</td>\n",
       "      <td>0</td>\n",
       "      <td>0</td>\n",
       "      <td>...</td>\n",
       "      <td>0</td>\n",
       "      <td>0</td>\n",
       "      <td>0</td>\n",
       "      <td>0</td>\n",
       "      <td>0</td>\n",
       "      <td>0</td>\n",
       "      <td>0</td>\n",
       "      <td>0</td>\n",
       "      <td>0</td>\n",
       "      <td>0</td>\n",
       "    </tr>\n",
       "  </tbody>\n",
       "</table>\n",
       "<p>5 rows × 288 columns</p>\n",
       "</div>"
      ],
      "text/plain": [
       "       dicomstationname_7596-NE2D-184  dicomstationname_7596-NE2D-264  \\\n",
       "64470                               0                               0   \n",
       "45557                               0                               0   \n",
       "27614                               0                               1   \n",
       "13568                               0                               0   \n",
       "92726                               0                               0   \n",
       "\n",
       "       dicomstationname_925813PORT4  dicomstationname_AMCMAM2  \\\n",
       "64470                             0                         0   \n",
       "45557                             0                         0   \n",
       "27614                             0                         0   \n",
       "13568                             0                         0   \n",
       "92726                             0                         0   \n",
       "\n",
       "       dicomstationname_AMCMAM3  dicomstationname_ANT-CR-01  \\\n",
       "64470                         0                           0   \n",
       "45557                         0                           0   \n",
       "27614                         0                           0   \n",
       "13568                         0                           0   \n",
       "92726                         0                           0   \n",
       "\n",
       "       dicomstationname_ANTMAM1  dicomstationname_AX1028116330078  \\\n",
       "64470                         0                                 0   \n",
       "45557                         0                                 0   \n",
       "27614                         0                                 0   \n",
       "13568                         0                                 0   \n",
       "92726                         0                                 0   \n",
       "\n",
       "       dicomstationname_CNBSRHOLOGIC  dicomstationname_CNDRV_CT0886199  \\\n",
       "64470                              0                                 0   \n",
       "45557                              0                                 0   \n",
       "27614                              0                                 0   \n",
       "13568                              0                                 0   \n",
       "92726                              0                                 0   \n",
       "\n",
       "                 ...             procedurecodevalue_76801  \\\n",
       "64470            ...                                    0   \n",
       "45557            ...                                    0   \n",
       "27614            ...                                    0   \n",
       "13568            ...                                    0   \n",
       "92726            ...                                    0   \n",
       "\n",
       "       procedurecodevalue_76805  procedurecodevalue_76816  \\\n",
       "64470                         0                         0   \n",
       "45557                         0                         0   \n",
       "27614                         0                         0   \n",
       "13568                         0                         0   \n",
       "92726                         0                         0   \n",
       "\n",
       "       procedurecodevalue_76856  procedurecodevalue_77055  \\\n",
       "64470                         0                         0   \n",
       "45557                         0                         0   \n",
       "27614                         0                         0   \n",
       "13568                         0                         0   \n",
       "92726                         0                         0   \n",
       "\n",
       "       procedurecodevalue_77056  procedurecodevalue_77057  \\\n",
       "64470                         0                         0   \n",
       "45557                         0                         0   \n",
       "27614                         0                         0   \n",
       "13568                         0                         0   \n",
       "92726                         0                         0   \n",
       "\n",
       "       procedurecodevalue_78815  procedurecodevalue_93880  \\\n",
       "64470                         0                         0   \n",
       "45557                         0                         0   \n",
       "27614                         0                         0   \n",
       "13568                         0                         0   \n",
       "92726                         0                         0   \n",
       "\n",
       "       procedurecodevalue_93971  \n",
       "64470                         0  \n",
       "45557                         0  \n",
       "27614                         0  \n",
       "13568                         0  \n",
       "92726                         0  \n",
       "\n",
       "[5 rows x 288 columns]"
      ]
     },
     "execution_count": 11,
     "metadata": {},
     "output_type": "execute_result"
    }
   ],
   "source": [
    "X_train.head(5)"
   ]
  },
  {
   "cell_type": "code",
   "execution_count": 13,
   "metadata": {
    "collapsed": true
   },
   "outputs": [],
   "source": [
    "#gbm = xgb.XGBClassifier(max_depth=3, n_estimators=300, learning_rate=0.05).fit(train_X, train_y)"
   ]
  },
  {
   "cell_type": "code",
   "execution_count": 14,
   "metadata": {
    "collapsed": true
   },
   "outputs": [],
   "source": [
    "#model = xgb.XGBClassifier(max_depth=3, n_estimators=300, learning_rate=0.05)\n",
    "#model.fit(X_train, y_train,verbose=True)"
   ]
  },
  {
   "cell_type": "code",
   "execution_count": 17,
   "metadata": {
    "collapsed": true
   },
   "outputs": [
    {
     "data": {
      "text/plain": [
       "RandomForestRegressor(bootstrap=True, criterion='mse', max_depth=None,\n",
       "           max_features='auto', max_leaf_nodes=None,\n",
       "           min_impurity_decrease=0.0, min_impurity_split=None,\n",
       "           min_samples_leaf=1, min_samples_split=2,\n",
       "           min_weight_fraction_leaf=0.0, n_estimators=500, n_jobs=1,\n",
       "           oob_score=True, random_state=0, verbose=0, warm_start=False)"
      ]
     },
     "execution_count": 17,
     "metadata": {},
     "output_type": "execute_result"
    }
   ],
   "source": [
    "## do a quick RF with fixed hyperparameter\n",
    "from sklearn.ensemble import RandomForestRegressor\n",
    "rf = RandomForestRegressor(n_estimators=500, oob_score=True, random_state=0)\n",
    "rf.fit(X_train, y_train)"
   ]
  },
  {
   "cell_type": "code",
   "execution_count": 18,
   "metadata": {
    "collapsed": true
   },
   "outputs": [],
   "source": [
    "from sklearn.metrics import r2_score\n",
    "from scipy.stats import spearmanr, pearsonr\n",
    "predicted_train = rf.predict(X_train)\n",
    "predicted_test = rf.predict(X_test)\n",
    "test_score = r2_score(y_test, predicted_test)\n",
    "spearman = spearmanr(y_test, predicted_test)\n",
    "pearson = pearsonr(y_test, predicted_test)\n",
    "#print(f'Out-of-bag R-2 score estimate: {rf.oob_score_:>5.3}')\n",
    "#print(f'Test data R-2 score: {test_score:>5.3}')\n",
    "#print(f'Test data Spearman correlation: {spearman[0]:.3}')\n",
    "#print(f'Test data Pearson correlation: {pearson[0]:.3}')"
   ]
  },
  {
   "cell_type": "code",
   "execution_count": 24,
   "metadata": {},
   "outputs": [
    {
     "name": "stdout",
     "output_type": "stream",
     "text": [
      "Out-of-bag R-2 score estimate:\n",
      "0.67555435472\n",
      "Test data R-2 score:\n",
      "0.691858639455\n",
      "Test data Spearman correlation:\n",
      "0.888590281008\n",
      "Test data Pearson correlation:\n",
      "0.831930912254\n"
     ]
    }
   ],
   "source": [
    "## performance measurement for Random forecast regressgor\n",
    "print('Out-of-bag R-2 score estimate:')\n",
    "print(rf.oob_score_)\n",
    "print('Test data R-2 score:')\n",
    "print(test_score)\n",
    "print('Test data Spearman correlation:')\n",
    "print(spearman[0])\n",
    "print('Test data Pearson correlation:')\n",
    "print(pearson[0])"
   ]
  },
  {
   "cell_type": "code",
   "execution_count": null,
   "metadata": {
    "collapsed": true
   },
   "outputs": [],
   "source": []
  },
  {
   "cell_type": "code",
   "execution_count": 12,
   "metadata": {},
   "outputs": [
    {
     "name": "stderr",
     "output_type": "stream",
     "text": [
      "/usr/local/lib/python3.5/dist-packages/sklearn/cross_validation.py:41: DeprecationWarning: This module was deprecated in version 0.18 in favor of the model_selection module into which all the refactored classes and functions are moved. Also note that the interface of the new CV iterators are different from that of this module. This module will be removed in 0.20.\n",
      "  \"This module will be removed in 0.20.\", DeprecationWarning)\n"
     ]
    }
   ],
   "source": [
    "## test lasso regression\n",
    "import sklearn.cross_validation as cv\n",
    "from sklearn import linear_model"
   ]
  },
  {
   "cell_type": "code",
   "execution_count": null,
   "metadata": {},
   "outputs": [
    {
     "data": {
      "text/plain": [
       "Lasso(alpha=0.0001, copy_X=True, fit_intercept=True, max_iter=1000,\n",
       "   normalize=False, positive=False, precompute=False, random_state=None,\n",
       "   selection='cyclic', tol=0.0001, warm_start=False)"
      ]
     },
     "execution_count": 13,
     "metadata": {},
     "output_type": "execute_result"
    },
    {
     "name": "stderr",
     "output_type": "stream",
     "text": [
      "/usr/local/lib/python3.5/dist-packages/sklearn/linear_model/coordinate_descent.py:491: ConvergenceWarning: Objective did not converge. You might want to increase the number of iterations. Fitting data with very small alpha may cause precision problems.\n",
      "  ConvergenceWarning)\n"
     ]
    },
    {
     "data": {
      "text/plain": [
       "Lasso(alpha=0.0001, copy_X=True, fit_intercept=True, max_iter=1000,\n",
       "   normalize=False, positive=False, precompute=False, random_state=None,\n",
       "   selection='cyclic', tol=0.0001, warm_start=False)"
      ]
     },
     "execution_count": 13,
     "metadata": {},
     "output_type": "execute_result"
    },
    {
     "name": "stdout",
     "output_type": "stream",
     "text": [
      "0.0001 [ -1.66935621e+02  -2.29691082e+02  -2.10317598e+02   1.55716067e+02\n",
      "   4.98997732e+01   2.33020554e+01  -3.74051129e+01  -3.32899719e+02\n",
      "   5.94428427e+01  -9.54427613e+01  -2.08710893e+01  -3.46587038e+02\n",
      "  -1.82959201e+01   1.76080693e+03  -3.08814353e+02  -2.72177332e+02\n",
      "  -1.41933501e+02  -1.84370687e+02  -4.38341892e+02  -4.61722710e+02\n",
      "  -4.10853089e+02  -2.26197895e+02   1.10172762e+02  -2.26446635e+02\n",
      "   1.14767972e+03  -5.00863792e+02  -5.62140482e+02  -5.64004584e+02\n",
      "  -3.57505646e+02   5.23825623e+02   7.02987775e+02   9.39388414e+02\n",
      "   7.39220611e+02  -3.13988994e+02  -2.02815531e+02  -1.55817636e+02\n",
      "  -4.87232848e+02  -4.14352429e+02   7.87948804e+02   8.13676198e+02\n",
      "   6.83801426e+02   6.17297226e+02   6.77891272e+02  -4.68546329e+01\n",
      "  -7.21556679e+01  -4.24069701e+02   4.63709874e+03  -1.97059422e+02\n",
      "  -2.81464705e+02  -1.46278029e+02   7.72087140e+02   1.24965630e+03\n",
      "   6.46318961e+02   7.14987720e+02   5.24732479e+02  -1.40191219e+02\n",
      "  -2.75233623e+02   8.24577952e+02  -4.28308496e+02  -4.48540579e+02\n",
      "  -3.17533605e+02   7.44425011e+02  -1.67142075e+02  -3.24724905e+01\n",
      "  -5.82917474e+01  -7.04890742e+00   1.46357801e+00   1.82621357e+02\n",
      "  -1.05339612e+02   2.67713977e+02   1.97888601e+02   5.98069883e+02\n",
      "  -2.21265361e+01   1.55881773e+02   1.41144198e+02  -2.12262436e+02\n",
      "   1.76494973e+01   2.43373867e+02  -5.35150908e+01  -3.12695995e+02\n",
      "  -1.38106254e+03   2.55438640e+02  -4.33157109e+00   1.36103999e+02\n",
      "  -1.74090448e+02  -4.81200322e+02  -9.44120477e+01   1.62603721e+01\n",
      "  -7.54085965e+02  -1.11478367e+01  -2.15121850e+02   4.68649150e+01\n",
      "   8.59473440e+00  -1.06830436e+02  -5.10287993e+02  -2.50871398e+02\n",
      "  -2.53290228e+02  -1.30658644e+01   0.00000000e+00   6.52818282e+00\n",
      "   1.74128945e+02   4.81756965e+02  -4.54926005e+02   0.00000000e+00\n",
      "  -1.80780943e+02  -7.99233386e+02   1.75165415e+02  -2.49226671e+02\n",
      "  -1.22593182e+02  -1.51668122e+02   1.10209303e+02  -1.53485130e+01\n",
      "  -1.09179828e+02   1.26438173e+02   5.61436796e+01   1.94562287e+00\n",
      "  -6.48965166e+01  -1.22344973e+01   6.72682893e+01   3.04314039e+01\n",
      "  -8.24901800e+01  -1.07721378e+01   8.70125217e+02   4.44471013e+01\n",
      "  -1.15925178e+01  -5.47363654e+00   8.31896184e+01   1.05781140e+01\n",
      "   1.11514648e+02   2.27818426e+01   7.76392761e+01  -6.15173233e+01\n",
      "  -2.22200899e+01  -1.63433297e+01   1.21735788e+02  -3.67287733e+02\n",
      "  -5.55538906e+02   1.48210836e+02   3.28877631e+01  -6.95509079e+01\n",
      "   4.43962041e+00  -1.07092349e+02  -7.24172961e+01   4.82146349e+00\n",
      "  -4.41003942e+01  -2.56945137e+01  -2.29871272e+02   3.12327376e+02\n",
      "  -1.15145698e+02   5.02950758e+02  -8.68236952e+02  -6.58932121e+01\n",
      "  -7.69344535e+01  -5.40937332e+01  -7.80179518e+01   4.16684024e+02\n",
      "   0.00000000e+00  -0.00000000e+00   5.36384689e+02  -1.48400504e+01\n",
      "   9.49359273e+01  -1.58147847e+01  -1.17373388e+01  -2.73307492e+01\n",
      "  -0.00000000e+00  -3.27321774e+02   1.39495516e+01   1.81348327e+02\n",
      "   6.88254721e+01  -1.95531374e+01   7.84866964e+00   1.53396761e+01\n",
      "  -2.21758958e+01  -2.88410599e+01   2.63627586e-01  -9.77265753e+02\n",
      "  -5.81536269e+01   1.16655806e+01  -7.56815124e+01   2.30281973e+00\n",
      "   8.02337518e+00   3.93168773e+01   2.18477017e+01  -5.39330439e+01\n",
      "   2.12806042e+00  -1.82274185e+00   2.44173895e+01   4.73715869e+01\n",
      "  -4.27537593e+01  -4.99597609e+01  -2.89589494e+01  -6.45480731e+01\n",
      "   2.27747132e+01  -3.70690826e+01   2.83816180e+00   0.00000000e+00\n",
      "   3.66636816e+01   3.93237071e+01   4.10305949e+01   5.89320673e-01\n",
      "   3.63424168e+01   3.59277354e+01   8.45562689e+01  -5.29923079e+02\n",
      "   2.25903522e+01   6.94108301e+00   2.55655995e+01   2.60860849e+01\n",
      "   1.70754695e+02   1.15507241e+02  -2.77766545e+02   1.57560068e+01\n",
      "  -1.49331238e+02   9.47313864e+02  -1.02072802e+03  -2.28741107e+00\n",
      "   3.91922732e+00  -8.67389527e+00   3.02212401e+01  -0.00000000e+00\n",
      "   2.23817666e+01   2.08340118e+01   2.35718195e+01   2.48683895e+01\n",
      "  -1.20240589e+02   2.34080543e+01  -3.49624495e+01   6.15087852e-01\n",
      "  -2.08707125e+02  -2.39086219e+02  -8.28934402e+01   2.16397026e+02\n",
      "  -1.70630288e+01   1.02152083e+03  -1.12060169e+02   7.46286244e+01\n",
      "   1.28246677e+02  -1.45963519e+02   9.77610185e+01   2.70151431e+02\n",
      "  -1.65536533e+02  -1.28899886e+02  -7.13459849e+01  -1.29977426e+01\n",
      "  -7.01656286e+01  -3.90205735e+02  -3.40569977e+02  -4.99152650e+00\n",
      "  -3.06669352e+02  -1.82369971e+01   1.71529574e+01  -6.14882960e+02\n",
      "  -3.70940727e+01  -3.25965950e+02  -2.64288203e+02  -3.12187221e+02\n",
      "  -3.01789169e+02   3.03000786e+01   7.98443605e+01   8.58846976e+01\n",
      "   1.07248387e+02   1.26288514e+02   2.23085337e+02   4.03204797e+02\n",
      "   3.57620611e+02   2.36948449e+01  -2.19559234e+01  -9.40341101e+00\n",
      "   6.77403972e+01   6.64094519e+01  -4.26750623e+01   2.81835348e+02\n",
      "  -9.30102792e+01   3.54001086e+01  -2.29133757e+02  -2.20650903e+02\n",
      "  -2.38611740e+02  -3.62650224e+02   2.58090095e+02   1.59873619e+03\n",
      "   1.34859394e+02   1.95524323e+02   8.76804305e+01   3.85345618e+02\n",
      "  -4.56471001e+01   2.66764126e-01   3.63300572e+02  -4.89254082e+02]\n"
     ]
    },
    {
     "data": {
      "text/plain": [
       "Lasso(alpha=0.00021544346900318845, copy_X=True, fit_intercept=True,\n",
       "   max_iter=1000, normalize=False, positive=False, precompute=False,\n",
       "   random_state=None, selection='cyclic', tol=0.0001, warm_start=False)"
      ]
     },
     "execution_count": 13,
     "metadata": {},
     "output_type": "execute_result"
    },
    {
     "name": "stderr",
     "output_type": "stream",
     "text": [
      "/usr/local/lib/python3.5/dist-packages/sklearn/linear_model/coordinate_descent.py:491: ConvergenceWarning: Objective did not converge. You might want to increase the number of iterations. Fitting data with very small alpha may cause precision problems.\n",
      "  ConvergenceWarning)\n"
     ]
    },
    {
     "data": {
      "text/plain": [
       "Lasso(alpha=0.00021544346900318845, copy_X=True, fit_intercept=True,\n",
       "   max_iter=1000, normalize=False, positive=False, precompute=False,\n",
       "   random_state=None, selection='cyclic', tol=0.0001, warm_start=False)"
      ]
     },
     "execution_count": 13,
     "metadata": {},
     "output_type": "execute_result"
    },
    {
     "name": "stdout",
     "output_type": "stream",
     "text": [
      "0.000215443469003 [ -1.62562309e+02  -2.19420437e+02  -2.07549524e+02   1.31937314e+02\n",
      "   2.44019185e+01   1.80334725e+01  -5.24712637e+01  -3.33442340e+02\n",
      "   2.87268089e+01  -8.97686949e+01  -1.51856753e+01  -3.33301653e+02\n",
      "  -1.26176701e+01   1.75591682e+03  -3.09683116e+02  -2.74012483e+02\n",
      "  -1.37583576e+02  -1.78914014e+02  -4.37666203e+02  -4.61253346e+02\n",
      "  -4.10424112e+02  -2.24389243e+02   9.55648390e+01  -2.26378211e+02\n",
      "   1.12138097e+03  -5.05788974e+02  -5.47082949e+02  -5.57791382e+02\n",
      "  -3.57349251e+02   5.01779297e+02   7.00041003e+02   9.35284024e+02\n",
      "   6.76968973e+02  -3.12395888e+02  -1.77809839e+02  -1.31361770e+02\n",
      "  -4.22226515e+02  -3.75461585e+02   7.84677644e+02   8.10339674e+02\n",
      "   6.72450801e+02   6.05143612e+02   6.62890517e+02  -2.97752819e+01\n",
      "  -5.50616280e+01  -3.77038008e+02   4.63917472e+03  -1.74639492e+02\n",
      "  -2.51342265e+02  -1.24670417e+02   7.71460264e+02   1.18746121e+03\n",
      "   6.26570396e+02   6.92924929e+02   5.02341661e+02  -1.27835690e+02\n",
      "  -2.56657997e+02   8.28007043e+02  -4.21496448e+02  -4.37736299e+02\n",
      "  -3.10220099e+02   7.17197435e+02  -1.57392100e+02  -3.20501094e+01\n",
      "  -5.87036521e+01  -6.20653531e+00  -2.37481546e+00   1.69800517e+02\n",
      "  -1.05161357e+02   2.59716064e+02   1.85395111e+02   5.90213772e+02\n",
      "  -2.11571354e+01   1.56820923e+02   1.35626500e+02  -2.09556648e+02\n",
      "   1.14661969e+01   2.41418671e+02  -5.31926878e+01  -3.11644124e+02\n",
      "  -1.37940824e+03   2.50127633e+02  -2.90803103e+00   1.36626347e+02\n",
      "  -1.74425288e+02  -4.76131509e+02  -9.32683905e+01   1.72854459e+01\n",
      "  -7.43775510e+02  -1.02463866e+01  -2.14697934e+02   4.64973133e+01\n",
      "   0.00000000e+00  -1.05264094e+02  -5.09986794e+02  -2.41332082e+02\n",
      "  -2.43761721e+02  -3.52665426e+00   0.00000000e+00   0.00000000e+00\n",
      "   1.67649093e+02   4.68090517e+02  -4.53027516e+02   0.00000000e+00\n",
      "  -1.85827918e+02  -7.89638736e+02   1.60545338e+02  -2.48111337e+02\n",
      "  -1.19145820e+02  -1.50657154e+02   1.02840974e+02  -8.29369589e+00\n",
      "  -9.97652057e+01   1.26082992e+02   5.07888141e+01   1.42308666e+00\n",
      "  -7.28796359e+01  -1.13616805e+01   7.72310196e+01   3.08433809e+01\n",
      "  -9.12788888e+01  -1.03792517e+01   8.59879761e+02   7.04843314e+01\n",
      "  -1.28656786e+01  -1.93929104e+00   8.19022931e+01   7.62623322e+00\n",
      "   1.12945116e+02   2.52473106e+01   1.69181171e+01  -6.05592576e+01\n",
      "  -2.57548879e+01  -2.39251984e+01   1.16991390e+02  -3.71782897e+02\n",
      "  -5.60036324e+02   1.43460984e+02   2.56733848e+01  -3.41727840e+01\n",
      "   2.43227652e+01  -8.21440091e+01  -3.87589452e+01  -0.00000000e+00\n",
      "  -9.98759956e+00  -1.73811939e+01  -2.34579098e+02   3.07568577e+02\n",
      "  -1.19859353e+02   4.98208378e+02  -8.54860668e+02  -6.26635280e+01\n",
      "  -7.39773314e+01  -5.11778097e+01  -7.53138052e+01   4.25050910e+02\n",
      "   0.00000000e+00  -0.00000000e+00   5.63441662e+02   0.00000000e+00\n",
      "   1.03305429e+02  -2.21683558e+01  -1.03204356e+01  -1.90230619e+01\n",
      "  -0.00000000e+00  -3.32009103e+02   9.15467003e+00   1.76571623e+02\n",
      "   5.67554116e+01  -1.12399115e+01   1.97223836e+01   1.64000170e+01\n",
      "  -2.10897282e+01  -1.41560069e+00   1.58306125e+00  -9.68674959e+02\n",
      "  -4.25775629e+01  -0.00000000e+00  -5.91488136e+01   3.62020791e+00\n",
      "   8.23462035e+00   3.64798912e+01   2.27805049e+01  -5.27692472e+01\n",
      "  -6.84526348e-01  -4.63998660e+00   2.15794875e+01   4.45374835e+01\n",
      "  -3.73042335e+01  -2.82256250e+01  -2.19153309e+01  -6.27054066e+01\n",
      "   2.08513720e+01  -2.48283540e+01   0.00000000e+00   0.00000000e+00\n",
      "   2.15150212e+01   2.47247674e+01   9.24754882e+00   2.11325685e+00\n",
      "   2.42686728e+01   2.38587735e+01   5.21077295e+01  -5.19555546e+02\n",
      "   1.66646971e+01   5.60065819e-01   6.51780607e+00   3.05150309e+00\n",
      "   1.65988445e+02   1.10731933e+02  -2.82466252e+02   4.00642738e+00\n",
      "  -1.36416265e+02   9.42113451e+02  -1.01204568e+03  -0.00000000e+00\n",
      "   0.00000000e+00  -8.06829334e+00   3.38519345e+01  -0.00000000e+00\n",
      "   1.51214851e+01   1.27844192e+01   2.35394298e+01   1.67580407e+01\n",
      "  -1.14814141e+02   3.04505230e+01  -9.91803956e+00   5.71655600e+00\n",
      "  -2.03552326e+02  -2.33905846e+02  -8.26882911e+01   2.16576170e+02\n",
      "  -1.41248785e+01   1.02442742e+03  -1.13891896e+02   7.27988274e+01\n",
      "   1.26306582e+02  -1.45746977e+02   9.79511202e+01   2.70365427e+02\n",
      "  -1.54680240e+02  -1.18017831e+02  -6.56383562e+01  -1.55509055e+01\n",
      "  -6.99376043e+01  -3.87256692e+02  -3.37628372e+02  -8.13668320e+00\n",
      "  -3.00338246e+02  -1.34143890e+01   1.47701438e+01  -6.08676558e+02\n",
      "  -3.96193981e+01  -3.22281473e+02  -2.60625925e+02  -3.08532177e+02\n",
      "  -2.98123614e+02   3.32001209e+01   7.66291452e+01   8.26594749e+01\n",
      "   1.04006542e+02   1.23467667e+02   2.21774189e+02   4.01882460e+02\n",
      "   3.56314130e+02   2.09906218e+01  -2.31902608e+01  -1.13711138e+01\n",
      "   6.57142142e+01   6.93255060e+01  -4.47554134e+01   2.79959796e+02\n",
      "  -9.27998630e+01   3.55977458e+01  -2.24007177e+02  -2.15771753e+02\n",
      "  -2.33502332e+02  -3.57530139e+02   2.63099737e+02   1.60383929e+03\n",
      "   1.39927272e+02   2.00628777e+02   8.73806585e+01   3.85043515e+02\n",
      "  -4.59257390e+01   1.23208696e-02   3.68250448e+02  -4.84129743e+02]\n"
     ]
    },
    {
     "data": {
      "text/plain": [
       "Lasso(alpha=0.00046415888336127773, copy_X=True, fit_intercept=True,\n",
       "   max_iter=1000, normalize=False, positive=False, precompute=False,\n",
       "   random_state=None, selection='cyclic', tol=0.0001, warm_start=False)"
      ]
     },
     "execution_count": 13,
     "metadata": {},
     "output_type": "execute_result"
    },
    {
     "name": "stderr",
     "output_type": "stream",
     "text": [
      "/usr/local/lib/python3.5/dist-packages/sklearn/linear_model/coordinate_descent.py:491: ConvergenceWarning: Objective did not converge. You might want to increase the number of iterations. Fitting data with very small alpha may cause precision problems.\n",
      "  ConvergenceWarning)\n"
     ]
    },
    {
     "data": {
      "text/plain": [
       "Lasso(alpha=0.00046415888336127773, copy_X=True, fit_intercept=True,\n",
       "   max_iter=1000, normalize=False, positive=False, precompute=False,\n",
       "   random_state=None, selection='cyclic', tol=0.0001, warm_start=False)"
      ]
     },
     "execution_count": 13,
     "metadata": {},
     "output_type": "execute_result"
    },
    {
     "name": "stdout",
     "output_type": "stream",
     "text": [
      "0.000464158883361 [ -1.50096390e+02  -2.05947287e+02  -1.98861280e+02   1.04276742e+02\n",
      "   1.40359606e+00   1.68740193e+01  -4.30779887e+01  -3.32392628e+02\n",
      "   1.92545060e+01  -7.74189671e+01  -2.81121433e+00  -3.07704835e+02\n",
      "  -2.58629861e-01   1.75491547e+03  -3.06060781e+02  -2.72327783e+02\n",
      "  -1.26245276e+02  -1.65422568e+02  -4.31915124e+02  -4.55541651e+02\n",
      "  -4.04842288e+02  -2.15715904e+02   8.24612216e+01  -2.20367140e+02\n",
      "   1.09845725e+03  -5.08549287e+02  -5.34834477e+02  -5.40682731e+02\n",
      "  -3.51279269e+02   4.57754896e+02   6.95375189e+02   9.27572591e+02\n",
      "   6.01655213e+02  -3.06097391e+02  -1.36555721e+02  -8.69016312e+01\n",
      "  -3.86330210e+02  -3.46098501e+02   7.78529807e+02   8.00247603e+02\n",
      "   6.49624477e+02   5.76599292e+02   6.34349232e+02   3.23472806e+00\n",
      "  -2.19012167e+01  -2.89205888e+02   4.64489106e+03  -1.56542801e+02\n",
      "  -2.28231482e+02  -1.00943586e+02   7.69798882e+02   1.11230516e+03\n",
      "   5.85330560e+02   6.48860509e+02   4.57569655e+02  -9.19560135e+01\n",
      "  -2.20783176e+02   8.38814866e+02  -4.01404362e+02  -4.09502826e+02\n",
      "  -2.94108074e+02   6.63803196e+02  -1.45294991e+02  -3.05806619e+01\n",
      "  -5.81061117e+01  -4.71270243e+00  -8.70266383e+00   1.41473706e+02\n",
      "  -1.04128625e+02   2.44835368e+02   1.57659251e+02   5.71773308e+02\n",
      "  -1.94008211e+01   1.58437527e+02   1.23555063e+02  -2.01981175e+02\n",
      "   0.00000000e+00   2.38581767e+02  -5.07459254e+01  -3.09705053e+02\n",
      "  -1.37529486e+03   2.38462704e+02  -3.87487851e-01   1.37455056e+02\n",
      "  -1.73320680e+02  -4.64669570e+02  -9.09768051e+01   1.91620111e+01\n",
      "  -7.21898557e+02  -8.58357747e+00  -2.13144354e+02   4.75463099e+01\n",
      "   0.00000000e+00  -1.02548398e+02  -5.08701863e+02  -2.20164152e+02\n",
      "  -2.22488130e+02  -0.00000000e+00   0.00000000e+00  -6.43383334e+00\n",
      "   1.56863817e+02   4.37822272e+02  -4.49062567e+02   0.00000000e+00\n",
      "  -1.96762332e+02  -7.68367991e+02   1.28832473e+02  -2.46035208e+02\n",
      "  -1.09965518e+02  -1.46677847e+02   8.68234782e+01   6.70985205e+00\n",
      "  -7.88394678e+01   1.25961778e+02   3.90438964e+01  -4.55744671e-02\n",
      "  -8.86762847e+01  -1.05966442e+01   9.86059630e+01   3.23667753e+01\n",
      "  -1.10380339e+02  -7.14077083e+00   8.38305321e+02   1.25947591e+02\n",
      "  -1.54101576e+01  -0.00000000e+00   7.86176603e+01   1.41274828e+00\n",
      "   1.14749845e+02   2.97443600e+01  -0.00000000e+00  -5.80218900e+01\n",
      "  -3.26907797e+01  -4.01239750e+01   1.07205762e+02  -3.81143747e+02\n",
      "  -5.69401870e+02   1.33667471e+02   1.23224492e+01   8.43026444e+00\n",
      "   6.12729864e+01  -7.18210959e+01   8.51134598e+00  -0.00000000e+00\n",
      "   1.09230891e+01  -2.37145594e+00  -2.44279358e+02   2.97757684e+02\n",
      "  -1.29572839e+02   4.88432492e+02  -8.25131072e+02  -5.64847232e+01\n",
      "  -6.73097879e+01  -4.46434175e+01  -6.88312366e+01   4.43391721e+02\n",
      "   0.00000000e+00  -0.00000000e+00   5.64327962e+02   0.00000000e+00\n",
      "   1.21660324e+02  -2.27023098e+01  -0.00000000e+00  -4.02090726e+00\n",
      "  -0.00000000e+00  -3.41649859e+02  -2.21035344e-01   1.66736396e+02\n",
      "   3.19845417e+01   3.73928366e+00   4.04244413e+01   1.73792458e+01\n",
      "  -2.00559147e+01   0.00000000e+00   4.91877799e+00  -9.49862467e+02\n",
      "  -1.02105987e+01  -0.00000000e+00  -2.48620579e+01   4.61358321e+00\n",
      "   7.07600886e+00   3.15961434e+01   2.34825753e+01  -5.15700057e+01\n",
      "  -5.54358802e+00  -9.48249742e+00   1.66927461e+01   3.96594930e+01\n",
      "  -2.57009983e+01   4.82795580e+00  -7.96513007e+00  -5.66526532e+01\n",
      "   1.49529602e+01  -0.00000000e+00  -0.00000000e+00   0.00000000e+00\n",
      "  -0.00000000e+00  -0.00000000e+00  -0.00000000e+00  -0.00000000e+00\n",
      "   0.00000000e+00   0.00000000e+00  -0.00000000e+00  -4.96977430e+02\n",
      "   2.60824288e+00   0.00000000e+00  -0.00000000e+00  -0.00000000e+00\n",
      "   1.56160412e+02   1.00882455e+02  -2.92151777e+02  -0.00000000e+00\n",
      "  -1.11483676e+02   9.32134271e+02  -9.93034323e+02  -0.00000000e+00\n",
      "   0.00000000e+00  -6.44241888e+00   4.29101200e+01  -0.00000000e+00\n",
      "  -0.00000000e+00   0.00000000e+00   2.34721800e+01   1.62159380e-02\n",
      "  -1.01672724e+02   4.59268259e+01   0.00000000e+00   1.77602185e+01\n",
      "  -1.91391201e+02  -2.21685421e+02  -8.14328044e+01   2.17775276e+02\n",
      "  -9.13042947e+00   1.02935192e+03  -1.19930367e+02   6.67585519e+01\n",
      "   1.20070046e+02  -1.44466833e+02   9.91742814e+01   2.71639638e+02\n",
      "  -1.31924682e+02  -9.52029264e+01  -5.46663288e+01  -2.22198373e+01\n",
      "  -6.86317456e+01  -3.82245397e+02  -3.32633335e+02  -1.57004198e+01\n",
      "  -2.90502458e+02  -7.67131785e+00   8.47905433e+00  -5.95243413e+02\n",
      "  -4.61871131e+01  -3.15576255e+02  -2.53965882e+02  -3.01884589e+02\n",
      "  -2.91461944e+02   3.81032404e+01   6.89054008e+01   7.49083646e+01\n",
      "   9.62298157e+01   1.16347007e+02   2.15677868e+02   3.95747681e+02\n",
      "   3.50208630e+02   1.40332413e+01  -2.87902257e+01  -1.88188806e+01\n",
      "   5.81575111e+01   7.42689026e+01  -5.12437581e+01   2.73832845e+02\n",
      "  -9.15317769e+01   3.68384528e+01  -2.11884459e+02  -2.04056075e+02\n",
      "  -2.21417312e+02  -3.45423557e+02   2.75123440e+02   1.61591531e+03\n",
      "   1.51969353e+02   2.12703105e+02   8.96024127e+01   3.87318070e+02\n",
      "  -4.35770605e+01   1.40433327e-01   3.80005989e+02  -4.72016671e+02]\n"
     ]
    },
    {
     "data": {
      "text/plain": [
       "Lasso(alpha=0.001, copy_X=True, fit_intercept=True, max_iter=1000,\n",
       "   normalize=False, positive=False, precompute=False, random_state=None,\n",
       "   selection='cyclic', tol=0.0001, warm_start=False)"
      ]
     },
     "execution_count": 13,
     "metadata": {},
     "output_type": "execute_result"
    },
    {
     "name": "stderr",
     "output_type": "stream",
     "text": [
      "/usr/local/lib/python3.5/dist-packages/sklearn/linear_model/coordinate_descent.py:491: ConvergenceWarning: Objective did not converge. You might want to increase the number of iterations. Fitting data with very small alpha may cause precision problems.\n",
      "  ConvergenceWarning)\n"
     ]
    },
    {
     "data": {
      "text/plain": [
       "Lasso(alpha=0.001, copy_X=True, fit_intercept=True, max_iter=1000,\n",
       "   normalize=False, positive=False, precompute=False, random_state=None,\n",
       "   selection='cyclic', tol=0.0001, warm_start=False)"
      ]
     },
     "execution_count": 13,
     "metadata": {},
     "output_type": "execute_result"
    },
    {
     "name": "stdout",
     "output_type": "stream",
     "text": [
      "0.001 [ -1.25160420e+02  -1.79424388e+02  -1.84080985e+02   1.13052233e+02\n",
      "   1.24976265e+01   1.83889209e+01  -1.65352038e+01  -3.31803293e+02\n",
      "   2.75261139e+01  -7.00178356e+01   3.79437498e-02  -2.34194621e+02\n",
      "   2.94386404e-02   1.75850459e+03  -2.42782282e+02  -2.23738293e+02\n",
      "  -1.14264475e+02  -1.50973990e+02  -4.22750176e+02  -4.46918397e+02\n",
      "  -3.96030177e+02  -1.99146957e+02   9.68484964e+01  -1.90021374e+02\n",
      "   1.06269119e+03  -4.87853681e+02  -5.10047361e+02  -5.07644611e+02\n",
      "  -3.37736789e+02   3.63871091e+02   6.34282313e+02   8.91985214e+02\n",
      "   4.57196133e+02  -2.95643612e+02  -1.09992670e+02  -6.03416063e+01\n",
      "  -3.52337099e+02  -3.07544759e+02   7.42907842e+02   7.64560100e+02\n",
      "   6.14070011e+02   5.15533080e+02   5.73279115e+02   2.53183642e+01\n",
      "   8.36205596e-02  -2.16158197e+02   4.65373553e+03  -1.31392581e+02\n",
      "  -1.89889147e+02  -7.43991275e+01   7.62922829e+02   9.68125243e+02\n",
      "   5.08390800e+02   5.54869025e+02   3.62062536e+02  -1.85795077e+01\n",
      "  -1.47439817e+02   8.56066275e+02  -3.61767719e+02  -3.82216641e+02\n",
      "  -2.48685365e+02   6.02731812e+02  -1.20186283e+02  -3.06151262e+01\n",
      "  -6.15199564e+01  -6.83192625e+00  -1.13676169e+01   8.04039332e+01\n",
      "  -1.05183331e+02   2.16147211e+02   9.79920629e+01   5.28847338e+02\n",
      "  -2.07348074e+01   1.56867141e+02   9.76048943e+01  -1.89908179e+02\n",
      "  -0.00000000e+00   2.28621203e+02  -4.98160061e+01  -3.10752852e+02\n",
      "  -1.36961620e+03   2.13403211e+02  -1.37443606e-02   1.33715883e+02\n",
      "  -1.76369661e+02  -4.43148137e+02  -8.93565882e+01   1.81521561e+01\n",
      "  -6.79794463e+02  -8.22130450e+00  -2.13041404e+02   4.43450958e+01\n",
      "   0.00000000e+00  -1.01744355e+02  -5.09197961e+02  -1.77841292e+02\n",
      "  -1.80098151e+02  -0.00000000e+00   0.00000000e+00  -2.13059016e+01\n",
      "   1.37853228e+02   3.72702020e+02  -4.37209407e+02   0.00000000e+00\n",
      "  -2.17084304e+02  -7.25807671e+02   6.05944234e+01  -2.46593934e+02\n",
      "  -9.44671353e+01  -1.42450639e+02   5.56471472e+01   4.10397686e+01\n",
      "  -3.70201262e+01   1.22434169e+02   1.38101218e+01  -7.43264236e-01\n",
      "  -1.10323072e+02  -7.34185522e+00   1.43042179e+02   3.52229540e+01\n",
      "  -1.49764674e+02   1.47366916e-01   7.91968661e+02   2.44088262e+02\n",
      "  -2.03744686e+01  -1.85046786e-02   7.40075104e+01   0.00000000e+00\n",
      "   1.07369999e+02   3.88777022e+01  -0.00000000e+00  -4.88015903e+01\n",
      "  -4.48709549e+01  -7.12418596e+01   9.97199953e+01  -3.87701231e+02\n",
      "  -5.75969573e+02   1.26163628e+02   1.67536973e+01   2.37625840e+01\n",
      "   1.32938385e+02  -7.18025810e+01   2.61673570e+01   0.00000000e+00\n",
      "   2.76741844e+01   1.64556463e+00  -2.51579108e+02   2.90219962e+02\n",
      "  -1.36900341e+02   4.80973772e+02  -7.59454215e+02  -4.52356798e+01\n",
      "  -5.13349849e+01  -2.84930381e+01  -5.32417690e+01   4.84621551e+02\n",
      "  -0.00000000e+00   4.26957998e+00   5.62923305e+02   0.00000000e+00\n",
      "   1.62912001e+02  -2.26461727e+01  -0.00000000e+00   0.00000000e+00\n",
      "   6.94562500e+00  -3.48837750e+02  -7.33375918e+00   1.59132333e+02\n",
      "   0.00000000e+00   7.79607834e+00   7.46097482e+01   1.89343378e+01\n",
      "  -1.83846895e+01   0.00000000e+00   1.19287657e+01  -9.07610051e+02\n",
      "  -0.00000000e+00  -0.00000000e+00  -0.00000000e+00  -0.00000000e+00\n",
      "  -0.00000000e+00   2.32961145e+01   2.44411693e+01  -4.95378266e+01\n",
      "  -1.37887492e+01  -1.76916449e+01   8.38826191e+00   3.13721706e+01\n",
      "  -3.21597608e+00   2.88308547e+01  -0.00000000e+00  -4.20976139e+01\n",
      "   0.00000000e+00  -0.00000000e+00  -0.00000000e+00   0.00000000e+00\n",
      "  -0.00000000e+00  -0.00000000e+00  -0.00000000e+00  -0.00000000e+00\n",
      "   0.00000000e+00   0.00000000e+00  -0.00000000e+00  -4.46615021e+02\n",
      "  -0.00000000e+00   0.00000000e+00  -0.00000000e+00  -0.00000000e+00\n",
      "   1.48587474e+02   9.32652501e+01  -2.99417220e+02  -0.00000000e+00\n",
      "  -8.60251181e+01   9.12842632e+02  -9.50353978e+02  -0.00000000e+00\n",
      "   0.00000000e+00  -4.36715539e+00   6.38195612e+01  -0.00000000e+00\n",
      "  -0.00000000e+00   0.00000000e+00   2.33197566e+01   0.00000000e+00\n",
      "  -7.76112067e+01   7.87308629e+01   0.00000000e+00   2.89225260e+01\n",
      "  -1.79998513e+02  -2.10164893e+02  -7.45838702e+01   2.24543308e+02\n",
      "   0.00000000e+00   1.03845484e+03  -1.30124107e+02   5.65499224e+01\n",
      "   1.09446038e+02  -1.37517948e+02   1.05984174e+02   2.78520520e+02\n",
      "  -8.34640909e+01  -4.66075094e+01  -3.48266858e+01  -3.38672852e+01\n",
      "  -6.16831974e+01  -3.72948829e+02  -3.23370411e+02  -2.74096018e+01\n",
      "  -2.73137731e+02   0.00000000e+00   0.00000000e+00  -5.63596461e+02\n",
      "  -5.55611339e+01  -3.01667960e+02  -2.40170254e+02  -2.88108352e+02\n",
      "  -2.77680682e+02   4.71717098e+01   5.68359709e+01   6.27815606e+01\n",
      "   8.40501898e+01   1.05599260e+02   2.07504342e+02   3.87512903e+02\n",
      "   3.42037897e+02   3.63075619e+00  -3.66189440e+01  -3.09815116e+01\n",
      "   4.56759039e+01   8.34200544e+01  -6.24923223e+01   2.63426409e+02\n",
      "  -8.46479128e+01   4.36675051e+01  -2.00572548e+02  -1.93639984e+02\n",
      "  -2.10189468e+02  -3.34148280e+02   2.86074029e+02   1.62712251e+03\n",
      "   1.63057889e+02   2.23907235e+02   8.58509320e+01   3.83480934e+02\n",
      "  -4.73422018e+01   7.68448234e-01   3.90513064e+02  -4.60729027e+02]\n"
     ]
    },
    {
     "data": {
      "text/plain": [
       "Lasso(alpha=0.0021544346900318821, copy_X=True, fit_intercept=True,\n",
       "   max_iter=1000, normalize=False, positive=False, precompute=False,\n",
       "   random_state=None, selection='cyclic', tol=0.0001, warm_start=False)"
      ]
     },
     "execution_count": 13,
     "metadata": {},
     "output_type": "execute_result"
    },
    {
     "name": "stderr",
     "output_type": "stream",
     "text": [
      "/usr/local/lib/python3.5/dist-packages/sklearn/linear_model/coordinate_descent.py:491: ConvergenceWarning: Objective did not converge. You might want to increase the number of iterations. Fitting data with very small alpha may cause precision problems.\n",
      "  ConvergenceWarning)\n"
     ]
    },
    {
     "data": {
      "text/plain": [
       "Lasso(alpha=0.0021544346900318821, copy_X=True, fit_intercept=True,\n",
       "   max_iter=1000, normalize=False, positive=False, precompute=False,\n",
       "   random_state=None, selection='cyclic', tol=0.0001, warm_start=False)"
      ]
     },
     "execution_count": 13,
     "metadata": {},
     "output_type": "execute_result"
    },
    {
     "name": "stdout",
     "output_type": "stream",
     "text": [
      "0.00215443469003 [ -7.62481062e+01  -1.13542177e+02  -1.57454322e+02   1.34611124e+02\n",
      "   3.61308707e+01   3.18687156e+01   0.00000000e+00  -3.32283811e+02\n",
      "   5.10461641e+01  -5.18354783e+01   2.97027887e+00  -1.39325022e+02\n",
      "   2.66360792e+00   1.77280059e+03  -1.48120983e+02  -1.28942419e+02\n",
      "  -9.61574638e+01  -1.32858183e+02  -4.04633638e+02  -4.22913092e+02\n",
      "  -3.77745372e+02  -1.25853242e+02   1.29168240e+02  -1.14915086e+02\n",
      "   9.86565270e+02  -4.35318088e+02  -4.57442065e+02  -4.47701113e+02\n",
      "  -3.05807786e+02   1.81557757e+02   5.22626979e+02   8.16239507e+02\n",
      "   1.40006340e+02  -2.76848725e+02  -7.02519566e+01  -2.04187286e+01\n",
      "  -2.86213344e+02  -2.31962181e+02   6.66998863e+02   6.88599505e+02\n",
      "   5.38387348e+02   4.03912098e+02   4.61661383e+02   2.50567179e+01\n",
      "   0.00000000e+00  -1.22341620e+02   4.67195609e+03  -8.91634025e+01\n",
      "  -1.14576056e+02  -3.50156340e+01   7.42785312e+02   6.51641061e+02\n",
      "   3.37871939e+02   3.72350916e+02   1.76269510e+02   1.18833498e+01\n",
      "  -5.30403026e+01   8.81621957e+02  -3.13172979e+02  -3.33655986e+02\n",
      "  -1.59449160e+02   4.91107684e+02  -7.80620128e+01  -2.78179774e+01\n",
      "  -6.39675746e+01  -1.52222023e+01  -2.19417731e-01   2.00074967e+01\n",
      "  -1.04320524e+02   1.68155465e+02   4.03475753e+01   4.40348118e+02\n",
      "  -2.75837094e+01   1.50331278e+02   6.17449452e+01  -1.58354247e+02\n",
      "  -0.00000000e+00   2.16008172e+02  -4.22229046e+01  -3.16769382e+02\n",
      "  -1.35450172e+03   1.79271863e+02  -1.69311404e+00   1.21987952e+02\n",
      "  -1.76281029e+02  -3.93931617e+02  -7.82815683e+01   1.13837301e+01\n",
      "  -5.94022608e+02  -0.00000000e+00  -2.09755285e+02   4.44283516e+01\n",
      "   0.00000000e+00  -1.01951574e+02  -5.07158702e+02  -8.35023240e+01\n",
      "  -8.55214082e+01  -0.00000000e+00   0.00000000e+00  -3.71256563e+01\n",
      "   1.13060733e+02   3.03502801e+02  -3.77903063e+02   0.00000000e+00\n",
      "  -2.26978370e+02  -6.30973580e+02   0.00000000e+00  -2.52690075e+02\n",
      "  -5.54432704e+01  -1.27580983e+02   2.20183248e+01   1.21992577e+02\n",
      "  -0.00000000e+00   1.17948190e+02  -1.85705843e+01  -5.19066960e+00\n",
      "  -1.56757236e+02   0.00000000e+00   2.34682257e+02   3.68405975e+01\n",
      "  -1.78185222e+02   0.00000000e+00   6.92746195e+02   4.99129585e+02\n",
      "  -3.03093915e+01  -1.17241882e+00   6.44519788e+01   1.82509938e+00\n",
      "   8.84298939e+01   5.22582243e+01  -0.00000000e+00  -3.14685759e+01\n",
      "  -7.13212305e+01  -1.34928979e+02   8.37753785e+01  -4.01546696e+02\n",
      "  -5.89837126e+02   1.10177703e+02   5.61489139e+01   3.91392981e+01\n",
      "   2.13403049e+02  -4.90405826e+01   4.36276265e+01   0.00000000e+00\n",
      "   4.61211144e+01   1.60395984e+00  -2.67133841e+02   2.74152978e+02\n",
      "  -1.52514836e+02   4.65076623e+02  -6.20493737e+02  -2.45642567e+01\n",
      "  -1.70219392e+01   0.00000000e+00  -1.88201107e+01   5.79138868e+02\n",
      "  -0.00000000e+00   1.92393632e+01   5.59874856e+02   0.00000000e+00\n",
      "   2.57476595e+02  -2.24987423e+01  -0.00000000e+00   0.00000000e+00\n",
      "   2.23128025e+01  -3.64151443e+02  -2.24868848e+01   1.42920769e+02\n",
      "   0.00000000e+00   7.76368770e+00   1.34287732e+02   3.57863107e+01\n",
      "  -1.33038258e+00   0.00000000e+00   2.40175970e+01  -8.10893240e+02\n",
      "  -0.00000000e+00  -0.00000000e+00  -0.00000000e+00  -0.00000000e+00\n",
      "  -0.00000000e+00   1.58379074e+01   3.99786608e+01  -3.16642499e+01\n",
      "  -2.11227462e+01  -2.49958317e+01   9.28492527e-01   2.39504285e+01\n",
      "  -0.00000000e+00   7.17445456e+01  -0.00000000e+00  -7.81632481e+00\n",
      "  -0.00000000e+00  -0.00000000e+00  -0.00000000e+00   0.00000000e+00\n",
      "  -4.59029162e-01  -6.51013511e-01  -0.00000000e+00  -0.00000000e+00\n",
      "   0.00000000e+00   0.00000000e+00  -0.00000000e+00  -3.32353894e+02\n",
      "  -0.00000000e+00   0.00000000e+00  -0.00000000e+00  -0.00000000e+00\n",
      "   1.32439572e+02   7.70220250e+01  -3.14902492e+02  -1.45123124e-01\n",
      "  -3.99193575e+01   8.81719166e+02  -8.52716387e+02   6.35584376e+01\n",
      "  -0.00000000e+00  -0.00000000e+00   1.12965730e+02  -0.00000000e+00\n",
      "  -0.00000000e+00   0.00000000e+00   2.30075877e+01   0.00000000e+00\n",
      "  -2.85642850e+01   1.49394611e+02   2.08524536e+01   5.96752409e+01\n",
      "  -1.48746662e+02  -1.78636601e+02  -6.62438377e+01   2.32669996e+02\n",
      "   0.00000000e+00   1.03825467e+03  -1.41324877e+02   4.52629593e+01\n",
      "   9.72755989e+01  -1.29007781e+02   1.14210623e+02   2.86938715e+02\n",
      "  -3.60742939e+01   0.00000000e+00  -1.18326304e+01  -5.25569323e+01\n",
      "  -5.31202382e+01  -3.72734430e+02  -3.23228953e+02  -3.68285894e+01\n",
      "  -2.35690510e+02   1.42770713e+01  -6.25944430e-01  -4.85603584e+02\n",
      "  -5.80948880e+01  -2.77889762e+02  -2.16600593e+02  -2.64424248e+02\n",
      "  -2.53974016e+02   4.68896392e+01   4.66458486e+01   5.25130109e+01\n",
      "   7.36165586e+01   9.95438215e+01   1.97112453e+02   3.76934735e+02\n",
      "   3.31590106e+02  -0.00000000e+00  -4.45444254e+01  -4.89115603e+01\n",
      "   2.70736562e+01   8.33194410e+01  -7.57523868e+01   2.51751823e+02\n",
      "  -7.62396317e+01   5.19533966e+01  -1.69496081e+02  -1.64604122e+02\n",
      "  -1.79293052e+02  -3.03148778e+02   3.16340805e+02   1.65797555e+03\n",
      "   1.93658737e+02   2.54752038e+02   7.71533912e+01   3.74788196e+02\n",
      "  -5.57854044e+01   5.61483800e+00   4.19860349e+02  -4.29699014e+02]\n"
     ]
    },
    {
     "data": {
      "text/plain": [
       "Lasso(alpha=0.0046415888336127772, copy_X=True, fit_intercept=True,\n",
       "   max_iter=1000, normalize=False, positive=False, precompute=False,\n",
       "   random_state=None, selection='cyclic', tol=0.0001, warm_start=False)"
      ]
     },
     "execution_count": 13,
     "metadata": {},
     "output_type": "execute_result"
    },
    {
     "name": "stderr",
     "output_type": "stream",
     "text": [
      "/usr/local/lib/python3.5/dist-packages/sklearn/linear_model/coordinate_descent.py:491: ConvergenceWarning: Objective did not converge. You might want to increase the number of iterations. Fitting data with very small alpha may cause precision problems.\n",
      "  ConvergenceWarning)\n"
     ]
    },
    {
     "data": {
      "text/plain": [
       "Lasso(alpha=0.0046415888336127772, copy_X=True, fit_intercept=True,\n",
       "   max_iter=1000, normalize=False, positive=False, precompute=False,\n",
       "   random_state=None, selection='cyclic', tol=0.0001, warm_start=False)"
      ]
     },
     "execution_count": 13,
     "metadata": {},
     "output_type": "execute_result"
    },
    {
     "name": "stdout",
     "output_type": "stream",
     "text": [
      "0.00464158883361 [  1.63486033e+01  -1.93521759e+01  -1.18276254e+02   1.58556372e+02\n",
      "   6.14638409e+01   5.80833722e+01   0.00000000e+00  -2.78612908e+02\n",
      "   7.74233647e+01  -1.12968840e+01   1.93014526e+01  -6.80824220e+01\n",
      "   1.75849527e+01   1.80153619e+03  -7.71124061e+01  -5.72545922e+01\n",
      "  -5.57855388e+01  -9.24679273e+01  -3.34234108e+02  -3.33638882e+02\n",
      "  -3.05493408e+02  -4.05140722e+00   1.82686150e+02  -0.00000000e+00\n",
      "   8.36640874e+02  -3.45988845e+02  -3.68020054e+02  -3.57355367e+02\n",
      "  -2.41068648e+02  -0.00000000e+00   3.09619473e+02   6.67118934e+02\n",
      "  -0.00000000e+00  -1.94348489e+02  -1.56227783e+01   0.00000000e+00\n",
      "  -1.81674008e+02  -1.08829717e+02   5.17538253e+02   5.39027987e+02\n",
      "   3.89265963e+02   1.91047351e+02   2.48765516e+02   2.44500995e+01\n",
      "   0.00000000e+00  -4.40118199e+01   4.70617100e+03  -3.09821411e+01\n",
      "   0.00000000e+00  -0.00000000e+00   6.83417491e+02   5.09710998e+02\n",
      "  -5.27962316e+00   1.89716267e+02   0.00000000e+00   3.48170871e+01\n",
      "   1.68514081e+01   9.22750717e+02  -2.30736254e+02  -2.51220378e+02\n",
      "  -2.15559962e+01   2.78210051e+02  -2.10596132e+01  -1.47663024e+01\n",
      "  -6.22278326e+01  -1.92119769e+01   6.50770730e+00  -0.00000000e+00\n",
      "  -9.57274084e+01   8.22905153e+01   8.40530369e+00   2.54112039e+02\n",
      "  -2.98079219e+01   1.45656554e+02   0.00000000e+00  -9.08647182e+01\n",
      "  -0.00000000e+00   1.94538236e+02  -2.61858484e+01  -3.16084808e+02\n",
      "  -1.31494037e+03   1.17929328e+02   0.00000000e+00   1.11949373e+02\n",
      "  -1.67326025e+02  -2.80783787e+02  -7.12647482e+01   9.15435265e+00\n",
      "  -3.96170953e+02  -0.00000000e+00  -1.95721008e+02   5.36384042e+01\n",
      "   0.00000000e+00  -9.71102488e+01  -4.96108038e+02  -0.00000000e+00\n",
      "  -0.00000000e+00  -0.00000000e+00   0.00000000e+00  -4.89782817e+01\n",
      "   8.11031707e+01   2.46865760e+02  -1.99389319e+02   0.00000000e+00\n",
      "  -1.97442343e+02  -4.20559843e+02   0.00000000e+00  -2.52613457e+02\n",
      "  -0.00000000e+00  -9.54523975e+01   0.00000000e+00   2.69258633e+02\n",
      "  -0.00000000e+00   1.14963119e+02  -7.79246427e+01  -3.27559473e+01\n",
      "  -2.54119289e+02   8.88673903e+00   3.80866985e+02   2.48388479e+01\n",
      "  -1.44750382e+02   9.69198506e+00   4.73220720e+02   5.06779044e+02\n",
      "  -5.42695030e+01  -1.83016280e+00   5.28496745e+01   3.68310259e+01\n",
      "   5.31852285e+01   6.71328062e+01  -0.00000000e+00  -9.80119042e+00\n",
      "  -1.07645703e+02  -2.07658303e+02   4.50990880e+01  -4.35019559e+02\n",
      "  -6.23358011e+02   7.13989501e+01   7.80166648e+01   3.48371376e+01\n",
      "   2.56720742e+02  -2.73953937e+01   4.07286033e+01  -0.00000000e+00\n",
      "   7.63864722e+01   1.39697462e+00  -3.05050219e+02   2.35137418e+02\n",
      "  -1.90560797e+02   4.26421172e+02  -3.35051207e+02  -0.00000000e+00\n",
      "  -0.00000000e+00  -0.00000000e+00  -0.00000000e+00   7.72768305e+02\n",
      "  -0.00000000e+00   4.28226307e+01   5.55461825e+02   0.00000000e+00\n",
      "   4.51207589e+02  -2.22129328e+01  -0.00000000e+00  -0.00000000e+00\n",
      "   4.75166614e+01  -4.01539374e+02  -5.95388529e+01   1.03587953e+02\n",
      "   0.00000000e+00   7.57311141e+00   2.18014762e+02   3.70950972e+01\n",
      "   0.00000000e+00   0.00000000e+00   3.33242445e+01  -6.12527780e+02\n",
      "  -0.00000000e+00  -0.00000000e+00  -0.00000000e+00  -0.00000000e+00\n",
      "  -0.00000000e+00   1.46535160e+01   3.83462631e+01  -2.82965567e+01\n",
      "  -2.20335470e+01  -2.59289171e+01  -0.00000000e+00   2.28254830e+01\n",
      "  -3.56455473e+00   1.33351977e+02  -0.00000000e+00  -0.00000000e+00\n",
      "  -0.00000000e+00   0.00000000e+00   0.00000000e+00   0.00000000e+00\n",
      "  -3.35034289e+01   0.00000000e+00  -7.13567859e+00  -0.00000000e+00\n",
      "   0.00000000e+00   0.00000000e+00  -9.55265697e+00  -9.57326412e+01\n",
      "  -0.00000000e+00  -0.00000000e+00  -9.78670560e-01   0.00000000e+00\n",
      "   9.32195633e+01   3.76013597e+01  -3.52694592e+02  -1.36720036e+01\n",
      "  -0.00000000e+00   8.29571377e+02  -6.52367779e+02   1.10853394e+02\n",
      "   0.00000000e+00  -4.42486104e-01   1.85934787e+02  -0.00000000e+00\n",
      "   0.00000000e+00   0.00000000e+00   2.26072356e+01   0.00000000e+00\n",
      "  -0.00000000e+00   1.17952451e+02   4.00564799e+01   1.24744066e+02\n",
      "  -8.25089648e+01  -1.11789662e+02  -6.61790996e+01   2.32278335e+02\n",
      "   9.35435570e+00   1.04761831e+03  -1.59850135e+02   2.65266106e+01\n",
      "   7.72074238e+01  -1.28574641e+02   1.14030645e+02   2.87176714e+02\n",
      "  -1.42826197e+01   2.07934339e+01  -4.26412954e-01  -6.28233475e+01\n",
      "  -5.25785730e+01  -3.62433395e+02  -3.13150440e+02  -5.01598411e+01\n",
      "  -1.60199065e+02   3.59941999e+01  -4.79630266e+00  -3.09639524e+02\n",
      "  -6.47554148e+01  -2.26288250e+02  -1.65518681e+02  -2.13228594e+02\n",
      "  -2.02942136e+02   5.60449476e+01   3.17233388e+01   3.74131868e+01\n",
      "   5.81326001e+01   8.96652269e+01   1.78334982e+02   3.57786427e+02\n",
      "   3.12745187e+02  -8.51037478e+00  -5.62607540e+01  -7.48230232e+01\n",
      "   0.00000000e+00   9.27622575e+01  -9.90721903e+01   2.32131292e+02\n",
      "  -7.60324062e+01   5.18961887e+01  -1.03717168e+02  -1.03982563e+02\n",
      "  -1.13873235e+02  -2.37507084e+02   3.79999637e+02   1.72329584e+03\n",
      "   2.58496522e+02   3.20032586e+02   7.08684180e+01   3.68630910e+02\n",
      "  -6.13550913e+01   1.31674008e+01   4.81920810e+02  -3.63985886e+02]\n"
     ]
    },
    {
     "data": {
      "text/plain": [
       "Lasso(alpha=0.01, copy_X=True, fit_intercept=True, max_iter=1000,\n",
       "   normalize=False, positive=False, precompute=False, random_state=None,\n",
       "   selection='cyclic', tol=0.0001, warm_start=False)"
      ]
     },
     "execution_count": 13,
     "metadata": {},
     "output_type": "execute_result"
    },
    {
     "name": "stderr",
     "output_type": "stream",
     "text": [
      "/usr/local/lib/python3.5/dist-packages/sklearn/linear_model/coordinate_descent.py:491: ConvergenceWarning: Objective did not converge. You might want to increase the number of iterations. Fitting data with very small alpha may cause precision problems.\n",
      "  ConvergenceWarning)\n"
     ]
    },
    {
     "data": {
      "text/plain": [
       "Lasso(alpha=0.01, copy_X=True, fit_intercept=True, max_iter=1000,\n",
       "   normalize=False, positive=False, precompute=False, random_state=None,\n",
       "   selection='cyclic', tol=0.0001, warm_start=False)"
      ]
     },
     "execution_count": 13,
     "metadata": {},
     "output_type": "execute_result"
    },
    {
     "name": "stdout",
     "output_type": "stream",
     "text": [
      "0.01 [  3.59770117e+01  -0.00000000e+00  -0.00000000e+00   1.80724434e+02\n",
      "   8.46359282e+01   6.96492722e+01   0.00000000e+00  -1.55669926e+02\n",
      "   1.03426167e+02  -0.00000000e+00   4.84849266e+01  -6.68531769e+01\n",
      "   4.80620877e+01   1.81956130e+03  -7.59366292e+01  -5.50051015e+01\n",
      "  -2.02992188e+01  -5.50613317e+01  -2.03607274e+02  -2.03031076e+02\n",
      "  -1.74721565e+02  -0.00000000e+00   2.18163171e+02  -0.00000000e+00\n",
      "   6.03333417e+02  -2.14258018e+02  -2.37008393e+02  -2.26697469e+02\n",
      "  -1.10299365e+02  -2.99371992e+01   1.16808173e+02   4.35153713e+02\n",
      "  -0.00000000e+00  -6.14011752e+01  -0.00000000e+00  -0.00000000e+00\n",
      "  -7.40454745e+01  -6.03471829e+01   2.84157171e+02   3.05498299e+02\n",
      "   1.56931612e+02  -0.00000000e+00   5.61193958e+01   2.31399016e+01\n",
      "   0.00000000e+00  -5.78146888e+00   4.74229767e+03  -0.00000000e+00\n",
      "   0.00000000e+00  -0.00000000e+00   4.83899085e+02   5.09183487e+02\n",
      "  -6.36204845e+01   1.56973642e+02  -0.00000000e+00   5.42480625e+01\n",
      "   1.61162890e+01   9.59078504e+02  -1.07547480e+02  -1.28018061e+02\n",
      "  -0.00000000e+00   8.55693787e+01   0.00000000e+00   1.11201352e+00\n",
      "  -3.96803353e+01  -1.01304758e+01   3.11375337e+01  -0.00000000e+00\n",
      "  -7.11475635e+01   0.00000000e+00   2.93104087e+00   0.00000000e+00\n",
      "  -1.79479276e+01   1.50316225e+02  -5.22440607e+01  -0.00000000e+00\n",
      "  -0.00000000e+00   1.55619232e+02  -1.68562242e+01  -2.97713273e+02\n",
      "  -1.24220647e+03   4.32776242e+01   1.76572725e+01   1.08062082e+02\n",
      "  -1.31571367e+02  -4.90535014e+01  -5.71412596e+01   2.04714649e+01\n",
      "  -0.00000000e+00  -0.00000000e+00  -1.60152236e+02   8.96688068e+01\n",
      "   0.00000000e+00  -7.29229031e+01  -4.66623249e+02  -0.00000000e+00\n",
      "  -0.00000000e+00   0.00000000e+00   0.00000000e+00  -1.22086662e+01\n",
      "   7.57484033e+01   1.88265010e+02  -0.00000000e+00   0.00000000e+00\n",
      "  -7.94013632e+01  -0.00000000e+00  -0.00000000e+00  -2.36606797e+02\n",
      "  -0.00000000e+00  -5.42441125e+01   7.33104586e+00   5.03832064e+02\n",
      "  -0.00000000e+00   1.14719535e+02  -1.48964797e+02  -8.85158749e+01\n",
      "  -3.66296208e+02   3.90277478e+01   4.56066208e+02   7.88201837e+00\n",
      "  -3.84702508e+01   9.65523684e+01   1.27378354e+02   2.52974648e+02\n",
      "  -1.02875601e+02   0.00000000e+00   1.58356312e+02   6.23682628e+01\n",
      "   0.00000000e+00   4.32295598e+01  -0.00000000e+00  -2.63292980e+01\n",
      "  -1.25532292e+02  -5.56923152e+01   5.17641986e+00  -4.67367903e+02\n",
      "  -6.55806668e+02   3.13186875e+01   7.89458140e+01   1.07914188e+01\n",
      "   2.43820585e+02  -2.69420860e+01   1.77248871e+01  -0.00000000e+00\n",
      "   7.31096551e+01   0.00000000e+00  -3.42964653e+02   1.94867122e+02\n",
      "  -2.28691688e+02   3.87510326e+02  -0.00000000e+00  -0.00000000e+00\n",
      "  -0.00000000e+00  -0.00000000e+00  -0.00000000e+00   5.97671143e+02\n",
      "  -0.00000000e+00   2.37873917e+01   5.43567569e+02   0.00000000e+00\n",
      "   2.76111134e+02  -1.91389959e+01  -0.00000000e+00  -8.62564659e-01\n",
      "   2.76428243e+01  -4.38496471e+02  -9.56900944e+01   6.25251487e+01\n",
      "   0.00000000e+00   6.25780345e+00   1.95743551e+02   3.67489256e+01\n",
      "   0.00000000e+00   0.00000000e+00   0.00000000e+00  -7.77565029e+02\n",
      "  -0.00000000e+00  -0.00000000e+00  -0.00000000e+00  -2.43173005e+01\n",
      "  -2.62092203e+01   1.44355272e+01   3.14487928e+01  -2.45693717e+01\n",
      "  -2.16624021e+01  -2.56829860e+01  -0.00000000e+00   2.26510226e+01\n",
      "  -8.33831801e-01   9.79257740e+01  -0.00000000e+00  -0.00000000e+00\n",
      "  -0.00000000e+00   0.00000000e+00  -0.00000000e+00   0.00000000e+00\n",
      "  -4.87817210e+01  -0.00000000e+00  -5.38999360e+01  -0.00000000e+00\n",
      "   0.00000000e+00   0.00000000e+00  -5.04077860e+01  -1.80812847e+02\n",
      "  -0.00000000e+00   1.21889183e+00  -8.02432649e+00   0.00000000e+00\n",
      "   5.26243659e+01  -0.00000000e+00  -3.90227814e+02  -1.35313724e+01\n",
      "  -0.00000000e+00   7.19481131e+02  -8.13131531e+02   9.05321675e+01\n",
      "   0.00000000e+00  -1.82227996e+00   1.47882627e+02  -0.00000000e+00\n",
      "   0.00000000e+00   0.00000000e+00   2.13050471e+01   0.00000000e+00\n",
      "  -0.00000000e+00  -4.28893696e+01   3.57410001e+01   2.23201079e+02\n",
      "   1.16612814e+01  -1.02524036e+01  -9.10407025e+01   2.06421255e+02\n",
      "   0.00000000e+00   1.03739825e+03  -1.75184631e+02   1.10635427e+01\n",
      "   5.98825155e+01  -1.52647083e+02   8.86528031e+01   2.62372348e+02\n",
      "   0.00000000e+00   3.39975001e+01  -0.00000000e+00  -5.38983387e+01\n",
      "  -7.64140140e+01  -3.70785285e+02  -3.22121341e+02  -6.16271528e+01\n",
      "  -6.84698581e+01   5.02570295e+01  -9.08642139e-01  -4.64470506e+01\n",
      "  -6.55554020e+01  -1.41710533e+02  -8.19020957e+01  -1.29432777e+02\n",
      "  -1.20215296e+02   4.56625314e+01   1.67890539e+01   2.20957969e+01\n",
      "   4.20189501e+01   8.40752530e+01   1.52249614e+02   3.31069369e+02\n",
      "   2.86544370e+02  -1.21602794e+01  -6.93740304e+01  -7.47277376e+01\n",
      "  -0.00000000e+00   8.26354994e+01  -1.06276256e+02   2.17234923e+02\n",
      "  -1.00569055e+02   2.67799059e+01  -4.07053524e+00  -1.12941752e+01\n",
      "  -1.51103157e+01  -1.38161675e+02   4.75761755e+02   1.82200068e+03\n",
      "   3.56093770e+02   4.18578856e+02   4.92791014e+01   3.47318496e+02\n",
      "  -8.14046648e+01   0.00000000e+00   5.73564438e+02  -2.64684491e+02]\n"
     ]
    },
    {
     "data": {
      "text/plain": [
       "Lasso(alpha=0.021544346900318822, copy_X=True, fit_intercept=True,\n",
       "   max_iter=1000, normalize=False, positive=False, precompute=False,\n",
       "   random_state=None, selection='cyclic', tol=0.0001, warm_start=False)"
      ]
     },
     "execution_count": 13,
     "metadata": {},
     "output_type": "execute_result"
    },
    {
     "name": "stderr",
     "output_type": "stream",
     "text": [
      "/usr/local/lib/python3.5/dist-packages/sklearn/linear_model/coordinate_descent.py:491: ConvergenceWarning: Objective did not converge. You might want to increase the number of iterations. Fitting data with very small alpha may cause precision problems.\n",
      "  ConvergenceWarning)\n"
     ]
    },
    {
     "data": {
      "text/plain": [
       "Lasso(alpha=0.021544346900318822, copy_X=True, fit_intercept=True,\n",
       "   max_iter=1000, normalize=False, positive=False, precompute=False,\n",
       "   random_state=None, selection='cyclic', tol=0.0001, warm_start=False)"
      ]
     },
     "execution_count": 13,
     "metadata": {},
     "output_type": "execute_result"
    },
    {
     "name": "stdout",
     "output_type": "stream",
     "text": [
      "0.0215443469003 [  3.60900591e+01  -0.00000000e+00   0.00000000e+00   1.88863829e+02\n",
      "   9.41544799e+01   7.72429756e+01   0.00000000e+00  -4.50524466e+01\n",
      "   1.13051262e+02  -8.51936479e+00   0.00000000e+00  -1.85537809e+01\n",
      "   2.15707687e+00   1.82093955e+03  -2.96516940e+01  -6.92637460e+00\n",
      "  -2.90242232e+01  -6.07886354e+01  -5.33112801e+01  -5.27352986e+01\n",
      "  -2.41200493e+01  -0.00000000e+00   2.39704360e+02  -0.00000000e+00\n",
      "   3.69563023e+02  -6.41826655e+01  -8.59682424e+01  -6.25311958e+01\n",
      "   4.64170205e+00  -6.78709828e+01   1.13656150e+02   2.04952418e+02\n",
      "  -9.49120632e+00   1.48950732e+01  -0.00000000e+00  -0.00000000e+00\n",
      "   0.00000000e+00  -1.54658925e+01   5.26372861e+01   7.35858928e+01\n",
      "  -4.88398565e+01  -0.00000000e+00   5.33642925e+01   2.02588423e+01\n",
      "   0.00000000e+00  -0.00000000e+00   4.65470704e+03  -0.00000000e+00\n",
      "   0.00000000e+00  -0.00000000e+00   1.40819773e+02   4.85901175e+02\n",
      "  -1.83480449e+01   1.14196150e+02  -0.00000000e+00   6.52555571e+01\n",
      "   1.57619650e+01   9.81967487e+02   0.00000000e+00  -1.69227957e+01\n",
      "  -0.00000000e+00   8.12009973e+01  -0.00000000e+00   2.57242715e+01\n",
      "  -0.00000000e+00   0.00000000e+00   6.14379610e+01   0.00000000e+00\n",
      "  -3.84533188e+01  -0.00000000e+00   2.39405010e+01  -0.00000000e+00\n",
      "  -0.00000000e+00   1.49947300e+02  -7.71306209e+01  -0.00000000e+00\n",
      "  -0.00000000e+00   9.27307007e+01   0.00000000e+00  -2.68874211e+02\n",
      "  -1.09853799e+03   0.00000000e+00   4.62130922e+01   1.07296683e+02\n",
      "  -5.81382459e+01  -0.00000000e+00  -3.28043852e+01   3.38157653e+01\n",
      "  -0.00000000e+00  -0.00000000e+00  -1.06987615e+02   1.62559152e+02\n",
      "   0.00000000e+00  -3.38691502e+01  -4.26944002e+02  -0.00000000e+00\n",
      "  -0.00000000e+00   0.00000000e+00   0.00000000e+00  -0.00000000e+00\n",
      "   9.00780397e+01   9.45801247e+01  -0.00000000e+00   0.00000000e+00\n",
      "  -0.00000000e+00  -0.00000000e+00  -0.00000000e+00  -2.15812603e+02\n",
      "  -0.00000000e+00  -0.00000000e+00   2.64875108e+01   7.57918990e+02\n",
      "  -0.00000000e+00   1.01149151e+02  -1.86404303e+02  -1.77121678e+02\n",
      "  -5.21019231e+02   5.38117239e+01   2.03172531e+02   8.22762741e+01\n",
      "  -0.00000000e+00   1.76217491e+02   1.99421794e+02  -0.00000000e+00\n",
      "  -8.78921759e+01  -0.00000000e+00   2.39931712e+02   6.19788003e+01\n",
      "   0.00000000e+00  -2.47412901e+01   0.00000000e+00  -5.53082664e+01\n",
      "  -8.01317018e+01  -0.00000000e+00   3.86393175e+00  -4.51038988e+02\n",
      "  -6.39695609e+02   2.97950144e+01   8.15848694e+01   1.87758450e-02\n",
      "   2.78044741e+02  -2.53365956e+01   8.41266090e+00  -0.00000000e+00\n",
      "   6.16095607e+01  -0.00000000e+00  -3.39936394e+02   1.92761372e+02\n",
      "  -2.26286153e+02   3.86922383e+02   0.00000000e+00   3.38135684e+01\n",
      "  -0.00000000e+00  -0.00000000e+00  -0.00000000e+00   3.20674426e+02\n",
      "  -6.34558666e+01   0.00000000e+00   5.02127261e+02   0.00000000e+00\n",
      "   0.00000000e+00  -1.79744440e+01  -0.00000000e+00  -7.38963343e-01\n",
      "   3.66407484e-02  -4.33381649e+02  -8.89157556e+01   5.86880145e+01\n",
      "   0.00000000e+00   5.47268313e+00   1.88117102e+02   3.60965822e+01\n",
      "   0.00000000e+00  -1.09728756e+01   0.00000000e+00  -1.03392125e+03\n",
      "  -0.00000000e+00  -0.00000000e+00  -0.00000000e+00  -8.77860504e+01\n",
      "  -9.26180056e+01   0.00000000e+00   1.66338536e+01  -1.64291595e+01\n",
      "  -3.51282065e+01  -3.95229880e+01  -1.33550392e+01   8.07293604e+00\n",
      "  -0.00000000e+00   7.59579312e+01  -0.00000000e+00   5.92571696e+01\n",
      "   2.45969161e+00   1.56343741e+00  -0.00000000e+00   0.00000000e+00\n",
      "  -4.73918801e+01  -0.00000000e+00  -9.68547735e+01   0.00000000e+00\n",
      "   0.00000000e+00   0.00000000e+00  -1.21979260e+01  -2.62568587e+02\n",
      "  -0.00000000e+00   0.00000000e+00  -7.27087263e+00   0.00000000e+00\n",
      "   4.95282265e+01  -0.00000000e+00  -3.86670111e+02  -1.25797413e+01\n",
      "  -0.00000000e+00   4.67073411e+02  -1.06026957e+03   1.20616719e+02\n",
      "   4.20822311e+01  -0.00000000e+00   1.21300068e+02  -2.01090364e+01\n",
      "   0.00000000e+00   0.00000000e+00  -0.00000000e+00   0.00000000e+00\n",
      "  -0.00000000e+00  -5.78602190e+00   2.68982302e+01   2.05721044e+02\n",
      "  -0.00000000e+00  -1.93312980e+01  -1.18277625e+02   1.76930776e+02\n",
      "   0.00000000e+00   1.03572793e+03  -1.84280766e+02  -0.00000000e+00\n",
      "   4.68072036e+01  -1.78312853e+02   6.02487701e+01   2.33402418e+02\n",
      "   0.00000000e+00   3.23591915e+01   0.00000000e+00  -3.26762854e+01\n",
      "  -1.01426710e+02  -3.68246288e+02  -3.20770765e+02  -6.99932696e+01\n",
      "  -4.36918593e+01   5.71064963e+01   4.15538041e-01  -2.38234663e+01\n",
      "  -5.65066875e+01  -7.49894715e+01  -1.69970812e+01  -6.41755771e+01\n",
      "  -5.54861458e+01   4.34090021e+01   0.00000000e+00   3.49591953e+00\n",
      "   2.19417940e+01   8.30025888e+01   1.01252643e+02   2.78577870e+02\n",
      "   2.35028874e+02  -6.33983739e+00  -8.67331326e+01  -6.92484935e+01\n",
      "   0.00000000e+00   8.12929921e+01  -1.09160903e+02   2.05383551e+02\n",
      "  -1.27103112e+02  -0.00000000e+00  -1.87775439e+01  -4.23782650e+01\n",
      "  -3.07838308e+01  -1.53350670e+02   4.43017005e+02   1.80480284e+03\n",
      "   3.35363116e+02   4.01978929e+02   1.59617371e+01   3.14583985e+02\n",
      "  -1.11458192e+02   0.00000000e+00   5.43298290e+02  -2.79210547e+02]\n"
     ]
    },
    {
     "data": {
      "text/plain": [
       "Lasso(alpha=0.046415888336127774, copy_X=True, fit_intercept=True,\n",
       "   max_iter=1000, normalize=False, positive=False, precompute=False,\n",
       "   random_state=None, selection='cyclic', tol=0.0001, warm_start=False)"
      ]
     },
     "execution_count": 13,
     "metadata": {},
     "output_type": "execute_result"
    }
   ],
   "source": [
    "## search for the best Alphas value for Lasso regression\n",
    "alphas = np.logspace(-4, -1, 10)\n",
    "scores = np.empty_like(alphas)\n",
    "for i,a in enumerate(alphas):\n",
    "    lasso = linear_model.Lasso()\n",
    "    lasso.set_params(alpha=a)\n",
    "    lasso.fit(X_train, y_train)\n",
    "    scores[i] = lasso.score(X_test, y_test)\n",
    "    print(a, lasso.coef_)\n",
    "    "
   ]
  },
  {
   "cell_type": "code",
   "execution_count": null,
   "metadata": {
    "collapsed": true
   },
   "outputs": [],
   "source": []
  },
  {
   "cell_type": "code",
   "execution_count": null,
   "metadata": {
    "collapsed": true
   },
   "outputs": [],
   "source": [
    "# do a simple LASSO with fixed Alpha value\n",
    "from sklearn.linear_model import Lasso\n",
    "from sklearn.metrics import r2_score\n",
    "alpha = 0.1\n",
    "lasso = Lasso(alpha=alpha)\n",
    "\n",
    "y_pred_lasso = lasso.fit(X_train, y_train).predict(X_test)"
   ]
  },
  {
   "cell_type": "code",
   "execution_count": 13,
   "metadata": {
    "collapsed": true
   },
   "outputs": [],
   "source": [
    "from sklearn.metrics import r2_score\n"
   ]
  },
  {
   "cell_type": "code",
   "execution_count": 24,
   "metadata": {},
   "outputs": [
    {
     "data": {
      "text/plain": [
       "array([ 1358.35385302,    67.49999359,   303.972296  , ...,  1047.87679193,\n",
       "        1158.01941825,   152.13244018])"
      ]
     },
     "execution_count": 24,
     "metadata": {},
     "output_type": "execute_result"
    }
   ],
   "source": [
    "y_pred_lasso"
   ]
  },
  {
   "cell_type": "code",
   "execution_count": 25,
   "metadata": {},
   "outputs": [
    {
     "name": "stdout",
     "output_type": "stream",
     "text": [
      "Lasso(alpha=0.1, copy_X=True, fit_intercept=True, max_iter=1000,\n",
      "   normalize=False, positive=False, precompute=False, random_state=None,\n",
      "   selection='cyclic', tol=0.0001, warm_start=False)\n",
      "r^2 on test data for LASSO : 0.677832\n"
     ]
    }
   ],
   "source": [
    "r2_score_lasso = r2_score(y_test, y_pred_lasso)\n",
    "print(lasso)\n",
    "print(\"r^2 on test data for LASSO : %f\" % r2_score_lasso)"
   ]
  },
  {
   "cell_type": "code",
   "execution_count": 16,
   "metadata": {},
   "outputs": [
    {
     "name": "stdout",
     "output_type": "stream",
     "text": [
      "ElasticNet(alpha=0.1, copy_X=True, fit_intercept=True, l1_ratio=0.7,\n",
      "      max_iter=1000, normalize=False, positive=False, precompute=False,\n",
      "      random_state=None, selection='cyclic', tol=0.0001, warm_start=False)\n",
      "r^2 on test data : 0.534431\n"
     ]
    }
   ],
   "source": [
    "## do a elastic net regression with fixed hyper parameter\n",
    "from sklearn.linear_model import ElasticNet\n",
    "\n",
    "enet = ElasticNet(alpha=alpha, l1_ratio=0.7)\n",
    "\n",
    "y_pred_enet = enet.fit(X_train, y_train).predict(X_test)\n",
    "r2_score_enet = r2_score(y_test, y_pred_enet)\n",
    "print(enet)\n",
    "print(\"r^2 on test data : %f\" % r2_score_enet)"
   ]
  },
  {
   "cell_type": "code",
   "execution_count": 23,
   "metadata": {},
   "outputs": [
    {
     "name": "stdout",
     "output_type": "stream",
     "text": [
      "test data MSE on Lasso\n",
      "183868.797207\n",
      "test data MSE on Eent\n",
      "265711.332438\n"
     ]
    }
   ],
   "source": [
    "from sklearn.metrics import mean_squared_error\n",
    "#train_error = mean_squared_error(y_train, model.predict(pred_train))\n",
    "test_error = mean_squared_error(y_test, y_pred_lasso)\n",
    "#print (‘training data MSE’)\n",
    "#print(train_error)\n",
    "print('test data MSE on Lasso')\n",
    "print(test_error)\n",
    "\n",
    "test_error = mean_squared_error(y_test, y_pred_enet)\n",
    "#print (‘training data MSE’)\n",
    "#print(train_error)\n",
    "print('test data MSE on Eent')\n",
    "print(test_error)\n"
   ]
  },
  {
   "cell_type": "code",
   "execution_count": 18,
   "metadata": {},
   "outputs": [
    {
     "data": {
      "text/plain": [
       "[<matplotlib.lines.Line2D at 0x7fc0cdd30518>]"
      ]
     },
     "execution_count": 18,
     "metadata": {},
     "output_type": "execute_result"
    },
    {
     "data": {
      "text/plain": [
       "[<matplotlib.lines.Line2D at 0x7fc0cde0a7f0>]"
      ]
     },
     "execution_count": 18,
     "metadata": {},
     "output_type": "execute_result"
    },
    {
     "data": {
      "text/plain": [
       "<matplotlib.legend.Legend at 0x7fc0cdd30ef0>"
      ]
     },
     "execution_count": 18,
     "metadata": {},
     "output_type": "execute_result"
    },
    {
     "data": {
      "text/plain": [
       "<matplotlib.text.Text at 0x7fc0cdd10160>"
      ]
     },
     "execution_count": 18,
     "metadata": {},
     "output_type": "execute_result"
    },
    {
     "data": {
      "image/png": "[encoded data removed]",
      "text/plain": [
       "<matplotlib.figure.Figure at 0x7fc0cde0a9b0>"
      ]
     },
     "metadata": {},
     "output_type": "display_data"
    }
   ],
   "source": [
    "plt.plot(enet.coef_, color='lightgreen', linewidth=2,\n",
    "         label='Elastic net coefficients')\n",
    "plt.plot(lasso.coef_, color='gold', linewidth=2,\n",
    "         label='Lasso coefficients')\n",
    "#plt.plot(coef, '--', color='navy', label='original coefficients')\n",
    "plt.legend(loc='best')\n",
    "plt.title(\"Lasso R^2: %f, Elastic Net R^2: %f\"\n",
    "          % (r2_score_lasso, r2_score_enet))\n",
    "plt.show()"
   ]
  },
  {
   "cell_type": "code",
   "execution_count": null,
   "metadata": {
    "collapsed": true
   },
   "outputs": [],
   "source": []
  }
 ],
 "metadata": {
  "anaconda-cloud": {},
  "kernelspec": {
   "display_name": "Python [default]",
   "language": "python",
   "name": "python3"
  },
  "language_info": {
   "codemirror_mode": {
    "name": "ipython",
    "version": 3
   },
   "file_extension": ".py",
   "mimetype": "text/x-python",
   "name": "python",
   "nbconvert_exporter": "python",
   "pygments_lexer": "ipython3",
   "version": "3.5.2"
  }
 },
 "nbformat": 4,
 "nbformat_minor": 2
}
